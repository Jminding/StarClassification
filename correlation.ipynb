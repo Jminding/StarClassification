{
 "cells": [
  {
   "cell_type": "code",
   "execution_count": 1,
   "id": "initial_id",
   "metadata": {
    "collapsed": true,
    "ExecuteTime": {
     "end_time": "2023-11-25T02:31:32.732019Z",
     "start_time": "2023-11-25T02:31:29.591144Z"
    }
   },
   "outputs": [],
   "source": [
    "import tensorflow as tf\n",
    "from tensorflow.keras import layers, models\n",
    "import numpy as np\n",
    "from PIL import Image\n",
    "import os\n",
    "from tensorflow.keras.preprocessing import image\n",
    "from tensorflow.keras.utils import to_categorical\n",
    "from sklearn.metrics import r2_score\n",
    "import pandas as pd"
   ]
  },
  {
   "cell_type": "code",
   "execution_count": 2,
   "outputs": [
    {
     "data": {
      "text/plain": "          Star Name  Distance (pc)  \\\n0         Absolutno     273.845058   \n1            Acamar      49.431537   \n2          Achernar      42.753313   \n3            Achird       5.923041   \n4           Acubens      54.554183   \n..              ...            ...   \n299        Zavijava      11.001766   \n300           Zhang      76.182930   \n301           Zibal      36.503011   \n302  Zubenelhakrabi      50.025013   \n303  Zubeneschamali      56.753689   \n\n                                             Image URL       Spectral Class  \\\n0    https://alasky.u-strasbg.fr/hips-image-service...      ('G', '8', 'V')   \n1    https://alasky.u-strasbg.fr/hips-image-service...      ('A', '2', 'V')   \n2    https://alasky.u-strasbg.fr/hips-image-service...      ('B', '6', 'V')   \n3    https://alasky.u-strasbg.fr/hips-image-service...      ('F', '9', 'V')   \n4    https://alasky.u-strasbg.fr/hips-image-service...      ('A', '7', 'V')   \n..                                                 ...                  ...   \n299  https://alasky.u-strasbg.fr/hips-image-service...      ('F', '9', 'V')   \n300  https://alasky.u-strasbg.fr/hips-image-service...    ('G', '7', 'III')   \n301  https://alasky.u-strasbg.fr/hips-image-service...      ('A', '4', 'V')   \n302  https://alasky.u-strasbg.fr/hips-image-service...  ('G', '8.5', 'III')   \n303  https://alasky.u-strasbg.fr/hips-image-service...      ('B', '8', 'V')   \n\n     Center Pixel       L/L_o  \n0             255    0.656000  \n1             255   23.600000  \n2             233   97.521203  \n3             255    1.193670  \n4             255    8.149287  \n..            ...         ...  \n299           255    1.193670  \n300           255   40.426122  \n301           255   15.118020  \n302           255   46.156500  \n303           255  383.686686  \n\n[304 rows x 6 columns]",
      "text/html": "<div>\n<style scoped>\n    .dataframe tbody tr th:only-of-type {\n        vertical-align: middle;\n    }\n\n    .dataframe tbody tr th {\n        vertical-align: top;\n    }\n\n    .dataframe thead th {\n        text-align: right;\n    }\n</style>\n<table border=\"1\" class=\"dataframe\">\n  <thead>\n    <tr style=\"text-align: right;\">\n      <th></th>\n      <th>Star Name</th>\n      <th>Distance (pc)</th>\n      <th>Image URL</th>\n      <th>Spectral Class</th>\n      <th>Center Pixel</th>\n      <th>L/L_o</th>\n    </tr>\n  </thead>\n  <tbody>\n    <tr>\n      <th>0</th>\n      <td>Absolutno</td>\n      <td>273.845058</td>\n      <td>https://alasky.u-strasbg.fr/hips-image-service...</td>\n      <td>('G', '8', 'V')</td>\n      <td>255</td>\n      <td>0.656000</td>\n    </tr>\n    <tr>\n      <th>1</th>\n      <td>Acamar</td>\n      <td>49.431537</td>\n      <td>https://alasky.u-strasbg.fr/hips-image-service...</td>\n      <td>('A', '2', 'V')</td>\n      <td>255</td>\n      <td>23.600000</td>\n    </tr>\n    <tr>\n      <th>2</th>\n      <td>Achernar</td>\n      <td>42.753313</td>\n      <td>https://alasky.u-strasbg.fr/hips-image-service...</td>\n      <td>('B', '6', 'V')</td>\n      <td>233</td>\n      <td>97.521203</td>\n    </tr>\n    <tr>\n      <th>3</th>\n      <td>Achird</td>\n      <td>5.923041</td>\n      <td>https://alasky.u-strasbg.fr/hips-image-service...</td>\n      <td>('F', '9', 'V')</td>\n      <td>255</td>\n      <td>1.193670</td>\n    </tr>\n    <tr>\n      <th>4</th>\n      <td>Acubens</td>\n      <td>54.554183</td>\n      <td>https://alasky.u-strasbg.fr/hips-image-service...</td>\n      <td>('A', '7', 'V')</td>\n      <td>255</td>\n      <td>8.149287</td>\n    </tr>\n    <tr>\n      <th>...</th>\n      <td>...</td>\n      <td>...</td>\n      <td>...</td>\n      <td>...</td>\n      <td>...</td>\n      <td>...</td>\n    </tr>\n    <tr>\n      <th>299</th>\n      <td>Zavijava</td>\n      <td>11.001766</td>\n      <td>https://alasky.u-strasbg.fr/hips-image-service...</td>\n      <td>('F', '9', 'V')</td>\n      <td>255</td>\n      <td>1.193670</td>\n    </tr>\n    <tr>\n      <th>300</th>\n      <td>Zhang</td>\n      <td>76.182930</td>\n      <td>https://alasky.u-strasbg.fr/hips-image-service...</td>\n      <td>('G', '7', 'III')</td>\n      <td>255</td>\n      <td>40.426122</td>\n    </tr>\n    <tr>\n      <th>301</th>\n      <td>Zibal</td>\n      <td>36.503011</td>\n      <td>https://alasky.u-strasbg.fr/hips-image-service...</td>\n      <td>('A', '4', 'V')</td>\n      <td>255</td>\n      <td>15.118020</td>\n    </tr>\n    <tr>\n      <th>302</th>\n      <td>Zubenelhakrabi</td>\n      <td>50.025013</td>\n      <td>https://alasky.u-strasbg.fr/hips-image-service...</td>\n      <td>('G', '8.5', 'III')</td>\n      <td>255</td>\n      <td>46.156500</td>\n    </tr>\n    <tr>\n      <th>303</th>\n      <td>Zubeneschamali</td>\n      <td>56.753689</td>\n      <td>https://alasky.u-strasbg.fr/hips-image-service...</td>\n      <td>('B', '8', 'V')</td>\n      <td>255</td>\n      <td>383.686686</td>\n    </tr>\n  </tbody>\n</table>\n<p>304 rows × 6 columns</p>\n</div>"
     },
     "execution_count": 2,
     "metadata": {},
     "output_type": "execute_result"
    }
   ],
   "source": [
    "df = pd.read_csv(\"star_data.csv\")\n",
    "df"
   ],
   "metadata": {
    "collapsed": false,
    "ExecuteTime": {
     "end_time": "2023-11-23T15:02:19.756746Z",
     "start_time": "2023-11-23T15:02:19.736471Z"
    }
   },
   "id": "96a634234f4748dd"
  },
  {
   "cell_type": "code",
   "execution_count": 3,
   "outputs": [
    {
     "name": "stderr",
     "output_type": "stream",
     "text": [
      "IOPub data rate exceeded.\n",
      "The Jupyter server will temporarily stop sending output\n",
      "to the client in order to avoid crashing it.\n",
      "To change this limit, set the config variable\n",
      "`--ServerApp.iopub_data_rate_limit`.\n",
      "\n",
      "Current values:\n",
      "ServerApp.iopub_data_rate_limit=1000000.0 (bytes/sec)\n",
      "ServerApp.rate_limit_window=3.0 (secs)\n",
      "\n"
     ]
    }
   ],
   "source": [
    "test = Image.open(\"Star Images/Achernar_removedbg.jpg\")\n",
    "test_array = list(image.img_to_array(test))\n",
    "for i in range(len(test_array)):\n",
    "    test_array[i] = list(test_array[i])\n",
    "print(test_array)"
   ],
   "metadata": {
    "collapsed": false,
    "ExecuteTime": {
     "end_time": "2023-11-23T15:02:36.562856Z",
     "start_time": "2023-11-23T15:02:31.450881Z"
    }
   },
   "id": "8642c19393aacef1"
  },
  {
   "cell_type": "code",
   "execution_count": 34,
   "outputs": [
    {
     "name": "stdout",
     "output_type": "stream",
     "text": [
      "Currently working on: Absolutno.jpg\tFound average color: [0.06546649842841529, 0.061818487417610236, 0.06306176968088248]\n",
      "Currently working on: Acamar.jpg\tFound average color: [0.0703063214677277, 0.08608331478327491, 0.11336223848143338]\n",
      "Currently working on: Achernar.jpg\tFound average color: [0.2937458249537873, 0.30211427285569037, 0.31357900768110325]\n",
      "Currently working on: Achird.jpg\tFound average color: [0.08292433619808275, 0.07812593964792938, 0.07373762134693837]\n",
      "Currently working on: Acubens.jpg\tFound average color: [0.07680351310459976, 0.09873005676739496, 0.13554175485062805]\n",
      "Currently working on: Adhafera.jpg\tFound average color: [0.08072964511704579, 0.07907467667250362, 0.07036941646690935]\n",
      "Currently working on: Adhil.jpg\tFound average color: [0.11784829322960827, 0.09453749855765274, 0.06811300660314612]\n",
      "Currently working on: Alasia.jpg\tFound average color: [0.2651931086872978, 0.20092484970427313, 0.13758363732998902]\n",
      "Currently working on: Albali.jpg\tFound average color: [0.06917033239895407, 0.08058319074438881, 0.10438416089838488]\n",
      "Currently working on: Alchiba.jpg\tFound average color: [0.06310635438620187, 0.07972242085046773, 0.11537501836281855]\n",
      "Currently working on: Alcor.jpg\tFound average color: [0.12491983144602706, 0.13380270488277554, 0.14217007122224218]\n",
      "Currently working on: Alcyone.jpg\tFound average color: [0.11719617254901961, 0.3033600784313725, 0.4911673098039216]\n",
      "Currently working on: Aldebaran.jpg\tFound average color: [0.22426285388452866, 0.20361412718450447, 0.18560973572412626]\n",
      "Currently working on: Alderamin.jpg\tFound average color: [0.05542055316834692, 0.09200688507468845, 0.13698034290156674]\n",
      "Currently working on: Aldhibah.jpg\tFound average color: [0.055481647058823524, 0.08983621960784313, 0.13452630588235295]\n",
      "Currently working on: Alfirk.jpg\tFound average color: [0.04278736613358164, 0.0791858854089575, 0.12332583683743727]\n",
      "Currently working on: Algedi.jpg\tFound average color: [0.09436457205985796, 0.09452849124340544, 0.09815489835799202]\n",
      "Currently working on: Algieba.jpg\tFound average color: [0.11996458041248807, 0.11150909123140092, 0.10434955923180063]\n",
      "Currently working on: Algol.jpg\tFound average color: [0.09043144470876875, 0.10506128480433334, 0.12636097600766777]\n",
      "Currently working on: Alioth.jpg\tFound average color: [0.10361441753218044, 0.14083784198226817, 0.18366677588397118]\n",
      "Currently working on: Aljanah.jpg\tFound average color: [0.11723922684542228, 0.10932089215167153, 0.10263183902992769]\n",
      "Currently working on: Alkaid.jpg\tFound average color: [0.08188467450980393, 0.16724533333333333, 0.2561868235294118]\n",
      "Currently working on: Alkaphrah.jpg\tFound average color: [0.050750826202704956, 0.07175899349272065, 0.10400932009606279]\n",
      "Currently working on: Alkarab.jpg\tFound average color: [0.059750048798087596, 0.08430680546799474, 0.12288914267606325]\n",
      "Currently working on: Alkes.jpg\tFound average color: [0.09979492063177922, 0.09411987746285887, 0.09265057524397596]\n",
      "Currently working on: Almaaz.jpg\tFound average color: [0.10519721502016602, 0.08332830535944366, 0.06725121373407147]\n",
      "Currently working on: Alnair.jpg\tFound average color: [0.13049509890321878, 0.14346036063803014, 0.1600271485478936]\n",
      "Currently working on: Alnasl.jpg\tFound average color: [0.25217756854703405, 0.3013749497492035, 0.33906590179437457]\n",
      "Currently working on: Alnilam.jpg\tFound average color: [0.08699416470588235, 0.1759618823529412, 0.2690805176470588]\n",
      "Currently working on: Alnitak.jpg\tFound average color: [0.2563038901960784, 0.2852779921568627, 0.318593568627451]\n",
      "Currently working on: Alniyat.jpg\tFound average color: [0.2309278588235294, 0.20419816470588234, 0.17856994509803922]\n",
      "Currently working on: Alphard.jpg\tFound average color: [0.16827318932276947, 0.11902263061241744, 0.07124733076295983]\n",
      "Currently working on: Alpherg.jpg\tFound average color: [0.06868100392156863, 0.08102381176470588, 0.11099185882352941]\n",
      "Currently working on: Alrakis.jpg\tFound average color: [0.05414278912017609, 0.08350455362605763, 0.13622037233246972]\n",
      "Currently working on: Alruba.jpg\tFound average color: [0.12381926738278794, 0.09204365309060632, 0.056403631869874626]\n",
      "Currently working on: Alsafi.jpg\tFound average color: [0.09302821960784313, 0.10900649411764705, 0.14603333333333335]\n",
      "Currently working on: Alsciaukat.jpg\tFound average color: [0.09595342393349937, 0.082832055230017, 0.06434543193673911]\n",
      "Currently working on: Altair.jpg\tFound average color: [0.23214422814866678, 0.2574630378294034, 0.2882730217711678]\n",
      "Currently working on: Altais.jpg\tFound average color: [0.07257304640298455, 0.06410269173494201, 0.05223185953035752]\n",
      "Currently working on: Alterf.jpg\tFound average color: [0.11510430126102311, 0.11473940492839128, 0.12188113348198434]\n",
      "Currently working on: Aludra.jpg\tFound average color: [0.1587684018440246, 0.15488312350014516, 0.15154471629123056]\n",
      "Currently working on: Alula Australis.jpg\tFound average color: [0.06978529412550409, 0.07339371302580609, 0.08526494450030793]\n",
      "Currently working on: Alula Borealis.jpg\tFound average color: [0.07399926343055217, 0.07084985960961192, 0.07046409137545351]\n",
      "Currently working on: Anadolu.jpg\tFound average color: [0.09536454901960784, 0.2083270431372549, 0.36227512156862746]\n",
      "Currently working on: Angetenar.jpg\tFound average color: [0.14680869987938536, 0.10411253791659628, 0.05985381296209933]\n",
      "Currently working on: Aniara.jpg\tFound average color: [0.09546374702839486, 0.08256503507024339, 0.0923112139225314]\n",
      "Currently working on: Ankaa.jpg\tFound average color: [0.1480195494565654, 0.11173705073730313, 0.07419060830018483]\n",
      "Currently working on: Anser.jpg\tFound average color: [0.14851027501628974, 0.14223348445328435, 0.14309987404704577]\n",
      "Currently working on: Antares.jpg\tFound average color: [0.4361883294117647, 0.3165711843137255, 0.19894829803921568]\n",
      "Currently working on: Arcturus.jpg\tFound average color: [0.6658998745098039, 0.549950980392157, 0.43578972549019607]\n",
      "Currently working on: Arkab Posterior.jpg\tFound average color: [0.10850291345824803, 0.11801008699710874, 0.1303950838756165]\n",
      "Currently working on: Arkab Prior.jpg\tFound average color: [0.10229013283545235, 0.1144627370351893, 0.13077603985567499]\n",
      "Currently working on: Arneb.jpg\tFound average color: [0.1093365019923014, 0.0983277978330284, 0.08481748858663575]\n",
      "Currently working on: Ascella.jpg\tFound average color: [0.11850750903095797, 0.13797268872433938, 0.1591121533752416]\n",
      "Currently working on: Asellus Australis.jpg\tFound average color: [0.05918980392156863, 0.09882103529411765, 0.15207803921568627]\n",
      "Currently working on: Ashlesha.jpg\tFound average color: [0.13569214246742126, 0.09003447425100189, 0.04438006949764242]\n",
      "Currently working on: Aspidiske.jpg\tFound average color: [0.11316715844372427, 0.11577223409958255, 0.12065210842768609]\n",
      "Currently working on: Asterope.jpg\tFound average color: [0.09622600784313724, 0.24876489411764707, 0.40397690980392154]\n",
      "Currently working on: Athebyne.jpg\tFound average color: [0.12061499607843137, 0.0938804705882353, 0.06797799215686275]\n",
      "Currently working on: Atik.jpg\tFound average color: [0.09513122254198668, 0.10422758171664372, 0.1168916379039837]\n",
      "Currently working on: Atlas.jpg\tFound average color: [0.07471400784313725, 0.17545126274509804, 0.2805769254901961]\n",
      "Currently working on: Atria.jpg\tFound average color: [0.2078110900678897, 0.15168545380063872, 0.09688303851254622]\n",
      "Currently working on: Avior.jpg\tFound average color: [0.17737105882856383, 0.14772824528745962, 0.11795813935048312]\n",
      "Currently working on: Axolotl.jpg\tFound average color: [0.0962250314061319, 0.10520588893241056, 0.13709261363551298]\n",
      "Currently working on: Azelfafage.jpg\tFound average color: [0.1247781808769131, 0.125195702416811, 0.1273248799601998]\n",
      "Currently working on: Azha.jpg\tFound average color: [0.06470198429813327, 0.1002909580265772, 0.14395130521698557]\n",
      "Currently working on: Azmidi.jpg\tFound average color: [0.1570948719101374, 0.12438702101387826, 0.09298373409884658]\n",
      "Currently working on: Barnard's Star.jpg\tFound average color: [0.08083136646272075, 0.1146073133312141, 0.1609459143718928]\n",
      "Currently working on: Baten Kaitos.jpg\tFound average color: [0.07038277711366339, 0.06938764938747516, 0.07419752757945258]\n",
      "Currently working on: Beemim.jpg\tFound average color: [0.06370769012487815, 0.07372642823904628, 0.10146352742273715]\n",
      "Currently working on: Beid.jpg\tFound average color: [0.08954570501462839, 0.0793307506496551, 0.07265716134189329]\n",
      "Currently working on: Belel.jpg\tFound average color: [0.1123511935296028, 0.08519765115632037, 0.06589568946005415]\n",
      "Currently working on: Bellatrix.jpg\tFound average color: [0.10728904401082809, 0.1579894821863624, 0.21397170939307758]\n",
      "Currently working on: Betelgeuse.jpg\tFound average color: [0.39044170980392157, 0.2888064156862745, 0.18822743529411765]\n",
      "Currently working on: Bharani.jpg\tFound average color: [0.05225040140904304, 0.08176276945248936, 0.1223979027554424]\n",
      "Currently working on: Bibha.jpg\tFound average color: [0.10924635294117647, 0.1708318274509804, 0.25983816470588234]\n",
      "Currently working on: Biham.jpg\tFound average color: [0.06529221363742191, 0.08307332290840928, 0.11638637508298623]\n",
      "Currently working on: Bosona.jpg\tFound average color: [0.1538086943368919, 0.11303697075294743, 0.06690020563322535]\n",
      "Currently working on: Botein.jpg\tFound average color: [0.06847973333333333, 0.09427444705882353, 0.13652423529411764]\n",
      "Currently working on: Brachium.jpg\tFound average color: [0.06999145098039215, 0.08343385098039216, 0.10670730980392157]\n",
      "Currently working on: Bubup.jpg\tFound average color: [0.10726603921568628, 0.14806001568627453, 0.20490633725490198]\n",
      "Currently working on: Bunda.jpg\tFound average color: [0.08464158379161363, 0.08143580759566, 0.08609216310265674]\n",
      "Currently working on: Capella.jpg\tFound average color: [0.37133682696017534, 0.3642721885772704, 0.35458008506973504]\n",
      "Currently working on: Caph.jpg\tFound average color: [0.07500003137254903, 0.12572716862745098, 0.18061353725490195]\n",
      "Currently working on: Castor.jpg\tFound average color: [0.11873284705882353, 0.1875969725490196, 0.26088883137254903]\n",
      "Currently working on: Castula.jpg\tFound average color: [0.09547576170574769, 0.09450290449277715, 0.10093334201660897]\n",
      "Currently working on: Cebalrai.jpg\tFound average color: [0.09342641128425655, 0.08425944136760519, 0.07379560665990807]\n",
      "Currently working on: Ceibo.jpg\tFound average color: [0.06806772325128517, 0.13178029182704964, 0.21252392460550232]\n",
      "Currently working on: Chalawan.jpg\tFound average color: [0.07777989019607844, 0.12714778039215685, 0.20236936470588235]\n",
      "Currently working on: Chamukuy.jpg\tFound average color: [0.07571979607843136, 0.11243112156862745, 0.15774343529411763]\n",
      "Currently working on: Chaophraya.jpg\tFound average color: [0.1340129451437357, 0.21440515691129663, 0.32385318546368336]\n",
      "Currently working on: Chara.jpg\tFound average color: [0.07413715778831047, 0.07826961075026109, 0.09379508202646332]\n",
      "Currently working on: Chason.jpg\tFound average color: [0.0880002936592106, 0.08010042235438511, 0.07109794842171574]\n",
      "Currently working on: Citala.jpg\tFound average color: [0.09854691503945495, 0.09212330971385858, 0.08863114740731338]\n",
      "Currently working on: Cocibolca.jpg\tFound average color: [0.08859129961138534, 0.09565852765833531, 0.13774974386101305]\n",
      "Currently working on: Cor Caroli.jpg\tFound average color: [0.06873135313407035, 0.08347068978316939, 0.10104763819575009]\n",
      "Currently working on: Cujam.jpg\tFound average color: [0.04905465196837446, 0.090487822539123, 0.14717972458471298]\n",
      "Currently working on: Dalim.jpg\tFound average color: [0.061652442862320245, 0.08953205745121205, 0.12756740159267344]\n",
      "Currently working on: Deneb.jpg\tFound average color: [0.13356418823529412, 0.16956172549019607, 0.21248583529411766]\n",
      "Currently working on: Deneb Algedi.jpg\tFound average color: [0.07361716245373777, 0.07774434445355452, 0.08507934966264664]\n",
      "Currently working on: Denebola.jpg\tFound average color: [0.06839918782920872, 0.11258896899430108, 0.16353419062472413]\n",
      "Currently working on: Diadem.jpg\tFound average color: [0.05657749879333597, 0.059547436274863544, 0.0717813906812327]\n",
      "Currently working on: Dingolay.jpg\tFound average color: [0.14960385882352942, 0.19333016470588235, 0.28537107450980387]\n",
      "Currently working on: Diphda.jpg\tFound average color: [0.12333623185607567, 0.09655304975530518, 0.06895613074448867]\n",
      "Currently working on: Dofida.jpg\tFound average color: [0.12114931606576167, 0.07551912884639717, 0.048535888986651864]\n",
      "Currently working on: Dombay.jpg\tFound average color: [0.07363805726013622, 0.06780918338533165, 0.06532204522132]\n",
      "Currently working on: Dubhe.jpg\tFound average color: [0.14574410541279897, 0.11659537533210779, 0.08903258816139432]\n",
      "Currently working on: Ebla.jpg\tFound average color: [0.14223446269244164, 0.215508708194465, 0.35274813959000023]\n",
      "Currently working on: Edasich.jpg\tFound average color: [0.11609366274509804, 0.08355634509803922, 0.04982649411764706]\n",
      "Currently working on: Electra.jpg\tFound average color: [0.11354395294117646, 0.28952045490196077, 0.4676492862745098]\n",
      "Currently working on: Elkurud.jpg\tFound average color: [0.07652613092573927, 0.08523238869884683, 0.10611859409864023]\n",
      "Currently working on: Elnath.jpg\tFound average color: [0.09844853333333332, 0.1822881568627451, 0.2700796705882353]\n",
      "Currently working on: Eltanin.jpg\tFound average color: [0.19692905098039215, 0.1358323607843137, 0.07795540392156862]\n",
      "Currently working on: Enif.jpg\tFound average color: [0.12580320096377762, 0.10000724214151145, 0.07383379748163356]\n",
      "Currently working on: Epsilon Eridani.jpg\tFound average color: [0.06841151199797835, 0.08167632399882728, 0.11102640977990569]\n",
      "Currently working on: Epsilon Tauri.jpg\tFound average color: [0.13912010980392156, 0.08775364705882352, 0.04030503529411765]\n",
      "Currently working on: Errai.jpg\tFound average color: [0.09126932910870754, 0.08357157223376135, 0.07090193663633235]\n",
      "Currently working on: Fafnir.jpg\tFound average color: [0.07976472156862745, 0.11797325490196078, 0.16734715294117647]\n",
      "Currently working on: Fang.jpg\tFound average color: [0.10589699204146019, 0.1231527412813606, 0.1444533539504585]\n",
      "Currently working on: Felis.jpg\tFound average color: [0.10401027634392347, 0.09171713870442781, 0.08133128760875172]\n",
      "Currently working on: Felixvarela.jpg\tFound average color: [0.1582638868463644, 0.16585377982069446, 0.19488698793583714]\n",
      "Currently working on: Flegetonte.jpg\tFound average color: [0.17287169620456516, 0.18269637337108563, 0.21797331234868653]\n",
      "Currently working on: Fomalhaut.jpg\tFound average color: [0.12463490196078432, 0.17484473725490196, 0.2312670588235294]\n",
      "Currently working on: Formosa.jpg\tFound average color: [0.21165839777918843, 0.18801647987430695, 0.14714977776114507]\n",
      "Currently working on: Franz.jpg\tFound average color: [0.11259104974800582, 0.13455754704861167, 0.18026448525313693]\n",
      "Currently working on: Fumalsamakah.jpg\tFound average color: [0.036571890196078434, 0.10175386666666666, 0.17920869019607844]\n",
      "Currently working on: Funi.jpg\tFound average color: [0.10717403182209638, 0.11300069405235774, 0.13926243819430764]\n",
      "Currently working on: Furud.jpg\tFound average color: [0.07740864868996633, 0.0818620412735276, 0.08995555131950188]\n",
      "Currently working on: Fuyue.jpg\tFound average color: [0.3296049252567656, 0.2533163437388717, 0.17687940525438114]\n",
      "Currently working on: Gacrux.jpg\tFound average color: [0.2834732795509423, 0.2142639729353129, 0.14694555203500453]\n",
      "Currently working on: Giausar.jpg\tFound average color: [0.0856667592450161, 0.08575283590884103, 0.09032424330155595]\n",
      "Currently working on: Gienah.jpg\tFound average color: [0.09067330960138464, 0.10447222964532943, 0.12318948844029755]\n",
      "Currently working on: Ginan.jpg\tFound average color: [0.17649283831457374, 0.135603312154961, 0.10188527840294015]\n",
      "Currently working on: Gloas.jpg\tFound average color: [0.09253975969806238, 0.07614527298378598, 0.055668577512027445]\n",
      "Currently working on: Gomeisa.jpg\tFound average color: [0.057963545098039214, 0.11546166274509803, 0.17985323921568627]\n",
      "Currently working on: Grumium.jpg\tFound average color: [0.1550707294117647, 0.09591068235294117, 0.04018338823529412]\n",
      "Currently working on: Gudja.jpg\tFound average color: [0.09298134084982801, 0.08546955342632287, 0.07773240025774977]\n",
      "Currently working on: Gumala.jpg\tFound average color: [0.06938055723949245, 0.06498013482963645, 0.07718549971385624]\n",
      "Currently working on: Guniibuu.jpg\tFound average color: [0.27378179647056944, 0.19807033999421775, 0.12652367064047015]\n",
      "Currently working on: Hadar.jpg\tFound average color: [0.21494076862745098, 0.32473676862745093, 0.4374969568627451]\n",
      "Currently working on: Haedus.jpg\tFound average color: [0.07629696674721564, 0.09361861968703224, 0.11577589988270272]\n",
      "Currently working on: Hamal.jpg\tFound average color: [0.1233570573878974, 0.1225161445772535, 0.12420250956014685]\n",
      "Currently working on: Hatysa.jpg\tFound average color: [0.35827313353892354, 0.3325382838598475, 0.30966513087575326]\n",
      "Currently working on: Heze.jpg\tFound average color: [0.06550461867656614, 0.09248867353611767, 0.12934137037283805]\n",
      "Currently working on: Homam.jpg\tFound average color: [0.047680547489808926, 0.07210661405865128, 0.10655474600035703]\n",
      "Currently working on: Hunahpu.jpg\tFound average color: [0.09625169481070081, 0.12935601546327755, 0.19515384728205581]\n",
      "Currently working on: Hunor.jpg\tFound average color: [0.11165251350484151, 0.1034866759974557, 0.08703232245599428]\n",
      "Currently working on: Inquill.jpg\tFound average color: [0.19887508625826833, 0.16262995624611865, 0.13265269822140255]\n",
      "Currently working on: Intan.jpg\tFound average color: [0.12190973847657839, 0.12031288699096848, 0.1205772245000876]\n",
      "Currently working on: Intercrus.jpg\tFound average color: [0.10006729354221237, 0.06205752574219192, 0.03295209215928654]\n",
      "Currently working on: Itonda.jpg\tFound average color: [0.18389864932008745, 0.16166452116788857, 0.1284150548366899]\n",
      "Currently working on: Jabbah.jpg\tFound average color: [0.10477289411764706, 0.21189221960784313, 0.32237134117647054]\n",
      "Currently working on: Kaffaljidhma.jpg\tFound average color: [0.047146215959542534, 0.07070322120559826, 0.10673834697006632]\n",
      "Currently working on: Kalausi.jpg\tFound average color: [0.05642216597348625, 0.06197573577167071, 0.0830158657697087]\n",
      "Currently working on: Kamuy.jpg\tFound average color: [0.14923766448955122, 0.09659799631338227, 0.04523763248929521]\n",
      "Currently working on: Kang.jpg\tFound average color: [0.09009701960784314, 0.1096448156862745, 0.1486826980392157]\n",
      "Currently working on: Kaus Borealis.jpg\tFound average color: [0.17047526274509806, 0.23463105882352941, 0.3026043450980392]\n",
      "Currently working on: Kaus Media.jpg\tFound average color: [0.29302727307669074, 0.3037323380766476, 0.29756722179210526]\n",
      "Currently working on: Keid.jpg\tFound average color: [0.12699835294117648, 0.08341449411764706, 0.042424]\n",
      "Currently working on: Khambalia.jpg\tFound average color: [0.08933390682811737, 0.11578978906341054, 0.16482389114014875]\n",
      "Currently working on: Kochab.jpg\tFound average color: [0.16120412549019608, 0.11797225098039216, 0.0761977725490196]\n",
      "Currently working on: Koeia.jpg\tFound average color: [0.15758986931375807, 0.12950450020769705, 0.1151652614631624]\n",
      "Currently working on: Kornephoros.jpg\tFound average color: [0.08068910066960915, 0.07615619568942064, 0.07287948958261418]\n",
      "Currently working on: Kurhah.jpg\tFound average color: [0.09655887813189741, 0.10290330116313923, 0.10882789524857595]\n",
      "Currently working on: Larawag.jpg\tFound average color: [0.15317146786905803, 0.1409875850225228, 0.12866625497078676]\n",
      "Currently working on: Libertas.jpg\tFound average color: [0.1694195198634037, 0.16700887202270387, 0.168480844266213]\n",
      "Currently working on: Liesma.jpg\tFound average color: [0.13371716600068395, 0.1265531631864028, 0.13165440087686547]\n",
      "Currently working on: Lilii Borea.jpg\tFound average color: [0.08087017961306386, 0.09280479440880295, 0.11964632403140467]\n",
      "Currently working on: Maasym.jpg\tFound average color: [0.10282287678909648, 0.08888411770223224, 0.07281900676820152]\n",
      "Currently working on: Mago.jpg\tFound average color: [0.09336167899828585, 0.10978464275167855, 0.14897590500829624]\n",
      "Currently working on: Mahasim.jpg\tFound average color: [0.07921408940537722, 0.12228704601092914, 0.17357528253642426]\n",
      "Currently working on: Maia.jpg\tFound average color: [0.11533866666666666, 0.303354431372549, 0.49305877647058827]\n",
      "Currently working on: Markab.jpg\tFound average color: [0.060980690196078435, 0.08833607843137255, 0.12411410196078432]\n",
      "Currently working on: Marohu.jpg\tFound average color: [0.21758214901960785, 0.2038142745098039, 0.18604040784313725]\n",
      "Currently working on: Mebsuta.jpg\tFound average color: [0.08533721245445819, 0.08412916123813324, 0.08861940086252383]\n",
      "Currently working on: Megrez.jpg\tFound average color: [0.0709146024302323, 0.08080294444453598, 0.09246043581162541]\n",
      "Currently working on: Meissa.jpg\tFound average color: [0.08530782629766463, 0.12034324515069236, 0.15722069232530572]\n",
      "Currently working on: Mekbuda.jpg\tFound average color: [0.07330117153227247, 0.08230678957237292, 0.10274487528164322]\n",
      "Currently working on: Menkar.jpg\tFound average color: [0.09763770359815274, 0.08021209780337361, 0.060509180344486324]\n",
      "Currently working on: Menkent.jpg\tFound average color: [0.22117603137254901, 0.15298061176470587, 0.08732735686274509]\n",
      "Currently working on: Menkib.jpg\tFound average color: [0.14486705722445972, 0.11540132785864855, 0.08054127720882542]\n",
      "Currently working on: Meridiana.jpg\tFound average color: [0.13725510600232937, 0.13897775028971937, 0.1412587150263963]\n",
      "Currently working on: Miaplacidus.jpg\tFound average color: [0.14341506694768763, 0.14789503279541766, 0.1537785029113495]\n",
      "Currently working on: Minchir.jpg\tFound average color: [0.12425112979480901, 0.07052219317257803, 0.028662170939442903]\n",
      "Currently working on: Minelauva.jpg\tFound average color: [0.10405459933169409, 0.08136567681735074, 0.05613623037639493]\n",
      "Currently working on: Mira.jpg\tFound average color: [0.06717877647058823, 0.11870618039215686, 0.18633267450980392]\n",
      "Currently working on: Mirach.jpg\tFound average color: [0.10577177968472906, 0.08566124290017177, 0.06638837028768313]\n",
      "Currently working on: Miram.jpg\tFound average color: [0.09979779492880347, 0.09071771984855896, 0.08217311419013633]\n",
      "Currently working on: Mirfak.jpg\tFound average color: [0.1145295247847658, 0.13157693415087385, 0.16066200735391178]\n",
      "Currently working on: Misam.jpg\tFound average color: [0.0835034556550072, 0.08206695315452672, 0.07974570493943252]\n",
      "Currently working on: Moldoveanu.jpg\tFound average color: [0.17388643472999238, 0.19062715825683516, 0.22710008922333433]\n",
      "Currently working on: Monch.jpg\tFound average color: [0.08413802352941177, 0.14654523921568627, 0.25046374901960783]\n",
      "Currently working on: Morava.jpg\tFound average color: [0.10676840655075301, 0.11191671825591015, 0.12626369276787594]\n",
      "Currently working on: Mothallah.jpg\tFound average color: [0.0561394574672092, 0.07407602117204962, 0.10241171442473544]\n",
      "Currently working on: Mouhoun.jpg\tFound average color: [0.08796233765561459, 0.10431290034594878, 0.14248027693472404]\n",
      "Currently working on: Muscida.jpg\tFound average color: [0.07742067758289388, 0.08508020185349503, 0.10682757156416066]\n",
      "Currently working on: Musica.jpg\tFound average color: [0.09696966552898449, 0.10336437632080468, 0.12265553288156174]\n",
      "Currently working on: Nahn.jpg\tFound average color: [0.09117125479552245, 0.0971281067081226, 0.12064472071768678]\n",
      "Currently working on: Naos.jpg\tFound average color: [0.09912406309720162, 0.141535508315043, 0.18988249695788242]\n",
      "Currently working on: Nashira.jpg\tFound average color: [0.08953290842508772, 0.07844277811298946, 0.062262236350269735]\n",
      "Currently working on: Nasti.jpg\tFound average color: [0.09077606097840467, 0.11232986454420005, 0.17017244492299188]\n",
      "Currently working on: Natasha.jpg\tFound average color: [0.12952198189080247, 0.10205638133290951, 0.08688489386309897]\n",
      "Currently working on: Nekkar.jpg\tFound average color: [0.07808777824901764, 0.07928120562256921, 0.08188282643126547]\n",
      "Currently working on: Nembus.jpg\tFound average color: [0.09569417180171051, 0.08015944246436925, 0.06343436187951783]\n",
      "Currently working on: Nenque.jpg\tFound average color: [0.1486051855261057, 0.15835164735184784, 0.19025084009187285]\n",
      "Currently working on: Nervia.jpg\tFound average color: [0.07082177281447223, 0.050558245226427864, 0.03574425361870757]\n",
      "Currently working on: Nunki.jpg\tFound average color: [0.11830218433521865, 0.1740515002316128, 0.23337343873305558]\n",
      "Currently working on: Nusakan.jpg\tFound average color: [0.046305063651627155, 0.07941510981730202, 0.126075814107178]\n",
      "Currently working on: Nushagak.jpg\tFound average color: [0.1266438117647059, 0.08730346666666668, 0.05309225098039216]\n",
      "Currently working on: Paikauhale.jpg\tFound average color: [0.11680136793817773, 0.1378113665948244, 0.16101404524291205]\n",
      "Currently working on: Petra.jpg\tFound average color: [0.11949537552053738, 0.08338023014825734, 0.055784973592001005]\n",
      "Currently working on: Phact.jpg\tFound average color: [0.05320677647058824, 0.08677541960784314, 0.12945032156862746]\n",
      "Currently working on: Phecda.jpg\tFound average color: [0.06724637667486805, 0.08481896896556929, 0.10501597193919908]\n",
      "Currently working on: Pherkad.jpg\tFound average color: [0.08307582161250837, 0.093287758762712, 0.10791151167966205]\n",
      "Currently working on: Phoenicia.jpg\tFound average color: [0.10848071464912058, 0.11152367626736319, 0.12370038758704545]\n",
      "Currently working on: Piautos.jpg\tFound average color: [0.07897010351390067, 0.11827998888121283, 0.18253294693665492]\n",
      "Currently working on: Pincoya.jpg\tFound average color: [0.49211420152601326, 0.48049919431643984, 0.47023869258033696]\n",
      "Currently working on: Pleione.jpg\tFound average color: [0.07423035294117647, 0.17387896470588238, 0.27797272156862746]\n",
      "Currently working on: Poerava.jpg\tFound average color: [0.1431859321376899, 0.1469151919566319, 0.1652236054630824]\n",
      "Currently working on: Polaris.jpg\tFound average color: [0.09229616012581274, 0.1011922584097114, 0.11936385880983909]\n",
      "Currently working on: Polis.jpg\tFound average color: [0.20583202372250778, 0.16465315276941703, 0.12451840915113215]\n",
      "Currently working on: Pollux.jpg\tFound average color: [0.19396745549230038, 0.196487299357527, 0.20304444798319599]\n",
      "Currently working on: Porrima.jpg\tFound average color: [0.051687979948855656, 0.07641574814216635, 0.10857472543090102]\n",
      "Currently working on: Praecipua.jpg\tFound average color: [0.10976972480626082, 0.10247317103204809, 0.08869076205053514]\n",
      "Currently working on: Prima Hyadum.jpg\tFound average color: [0.05773491764705882, 0.09028523921568626, 0.1387277960784314]\n",
      "Currently working on: Propus.jpg\tFound average color: [0.1504833594361632, 0.11198488303633077, 0.07221055775308974]\n",
      "Currently working on: Proxima Centauri.jpg\tFound average color: [0.21743467792585172, 0.1581700811137152, 0.10766586284271196]\n",
      "Currently working on: Rapeto.jpg\tFound average color: [0.10643072021974805, 0.08193621770160266, 0.07014995852901819]\n",
      "Currently working on: Rasalas.jpg\tFound average color: [0.07662063512102045, 0.08862281579405203, 0.1112603781382504]\n",
      "Currently working on: Rasalgethi.jpg\tFound average color: [0.13407694415091384, 0.087495738218247, 0.04337333427765084]\n",
      "Currently working on: Rastaban.jpg\tFound average color: [0.08714990554919964, 0.08127733598058036, 0.07485180548015025]\n",
      "Currently working on: Rigel.jpg\tFound average color: [0.2986924179646797, 0.3790414791139647, 0.46286146431541475]\n",
      "Currently working on: Rigil Kentaurus.jpg\tFound average color: [0.3848949897238238, 0.4410842160114129, 0.49953309504496207]\n",
      "Currently working on: Rosaliadecastro.jpg\tFound average color: [0.050098469860378414, 0.039999958797563955, 0.03375059515730337]\n",
      "Currently working on: Rukbat.jpg\tFound average color: [0.04644669528462245, 0.06545482188990359, 0.08816606129304062]\n",
      "Currently working on: Sadachbia.jpg\tFound average color: [0.05909058930353368, 0.09184516738066952, 0.1364636203642854]\n",
      "Currently working on: Sadalbari.jpg\tFound average color: [0.08327466549102841, 0.07448263144723792, 0.062045725437015434]\n",
      "Currently working on: Sadalmelik.jpg\tFound average color: [0.062326067235988866, 0.070359558954903, 0.09047112376899015]\n",
      "Currently working on: Sadalsuud.jpg\tFound average color: [0.08109303138623788, 0.07272314792310001, 0.06501663212625376]\n",
      "Currently working on: Sadr.jpg\tFound average color: [0.2134500394767205, 0.17741828052174843, 0.1433990734853701]\n",
      "Currently working on: Sagarmatha.jpg\tFound average color: [0.10875743895132443, 0.13321794463648443, 0.19090736755103885]\n",
      "Currently working on: Saiph.jpg\tFound average color: [0.10022954067702418, 0.10329324149179489, 0.10558029415002121]\n",
      "Currently working on: Salm.jpg\tFound average color: [0.0420528690586412, 0.07678910731794, 0.1287339497116644]\n",
      "Currently working on: Samaya.jpg\tFound average color: [0.03919250998511801, 0.0353944077720633, 0.041662219528020385]\n",
      "Currently working on: Sargas.jpg\tFound average color: [0.20880408491496566, 0.20364168095947127, 0.1983264539394739]\n",
      "Currently working on: Sceptrum.jpg\tFound average color: [0.07659558206564135, 0.08088178207664273, 0.09209469147773404]\n",
      "Currently working on: Schedar.jpg\tFound average color: [0.1491344115445344, 0.13187856599168382, 0.11289696918228312]\n",
      "Currently working on: Secunda Hyadum.jpg\tFound average color: [0.09743884892990637, 0.10030549413357932, 0.1089924601414452]\n",
      "Currently working on: Segin.jpg\tFound average color: [0.08966058145232192, 0.0899959948762037, 0.0917958052291976]\n",
      "Currently working on: Sharjah.jpg\tFound average color: [0.11664750699428098, 0.22695228743259682, 0.3460745664785699]\n",
      "Currently working on: Sheliak.jpg\tFound average color: [0.06271061946992887, 0.10521397379707166, 0.1559881063053664]\n",
      "Currently working on: Sheratan.jpg\tFound average color: [0.06761320621287774, 0.088809717734885, 0.11942156160669173]\n",
      "Currently working on: Sika.jpg\tFound average color: [0.09634275843919848, 0.09636881316219945, 0.1021319784243438]\n",
      "Currently working on: Sirius.jpg\tFound average color: [0.424092031372549, 0.5444116235294117, 0.6692527843137255]\n",
      "Currently working on: Situla.jpg\tFound average color: [0.10854695322092647, 0.10613065519043581, 0.10897548370331121]\n",
      "Currently working on: Skat.jpg\tFound average color: [0.04159555921264498, 0.0659281325374451, 0.09873919956868966]\n",
      "Currently working on: Spica.jpg\tFound average color: [0.1520518274509804, 0.2372313568627451, 0.3259107137254902]\n",
      "Currently working on: Sterrennacht.jpg\tFound average color: [0.07102725659946545, 0.06240646884001153, 0.06407645839980308]\n",
      "Currently working on: Subra.jpg\tFound average color: [0.0799149527612972, 0.080939373284604, 0.07706482996514762]\n",
      "Currently working on: Suhail.jpg\tFound average color: [0.1319715460295781, 0.08804231945259189, 0.049227464226064936]\n",
      "Currently working on: Sulafat.jpg\tFound average color: [0.0940661949619256, 0.09962805770149795, 0.11202960761105815]\n",
      "Currently working on: Syrma.jpg\tFound average color: [0.07849855541923907, 0.08389751960749012, 0.10090827882962168]\n",
      "Currently working on: Tabit.jpg\tFound average color: [0.1004664223520642, 0.07868003282315619, 0.056320171517542275]\n",
      "Currently working on: Taiyangshou.jpg\tFound average color: [0.11028864084786263, 0.07754338201468558, 0.04461685740360108]\n",
      "Currently working on: Tangra.jpg\tFound average color: [0.21770407843137254, 0.19835413333333332, 0.17047132549019609]\n",
      "Currently working on: Tania Australis.jpg\tFound average color: [0.11549049545887143, 0.08226481302903675, 0.045413854066216654]\n",
      "Currently working on: Tapecue.jpg\tFound average color: [0.11354047691562039, 0.10533251080781725, 0.10046213277348835]\n",
      "Currently working on: Tarf.jpg\tFound average color: [0.07272073257487015, 0.06942458300414471, 0.07062053274911595]\n",
      "Currently working on: Tegmine.jpg\tFound average color: [0.11362679876352547, 0.1009514365517706, 0.10364404505606674]\n",
      "Currently working on: Tejat.jpg\tFound average color: [0.14845846525395373, 0.11360894181093145, 0.07777169674185641]\n",
      "Currently working on: Theemin.jpg\tFound average color: [0.08057904093060766, 0.076583682044475, 0.07989504932164113]\n",
      "Currently working on: Thuban.jpg\tFound average color: [0.05215210894697862, 0.07707353354379122, 0.1095753929557212]\n",
      "Currently working on: Tiaki.jpg\tFound average color: [0.1853267294117647, 0.11460021960784314, 0.047644]\n",
      "Currently working on: Tianyi.jpg\tFound average color: [0.12047578457523879, 0.12899632766218577, 0.14934776384139636]\n",
      "Currently working on: Timir.jpg\tFound average color: [0.11050344080505348, 0.11679106590830116, 0.13200537790025]\n",
      "Currently working on: Titawin.jpg\tFound average color: [0.08102916560257939, 0.062449373963618215, 0.04867245451688868]\n",
      "Currently working on: Toliman.jpg\tFound average color: [0.3851365594543034, 0.4411981905810533, 0.4998175097028126]\n",
      "Currently working on: Tonatiuh.jpg\tFound average color: [0.13678063782474204, 0.14733107346551108, 0.1767438285141369]\n",
      "Currently working on: Torcular.jpg\tFound average color: [0.08155317647058824, 0.0985723137254902, 0.13156149019607843]\n",
      "Currently working on: Tupa.jpg\tFound average color: [0.27874857686150756, 0.1379687806990461, 0.061590800147209974]\n",
      "Currently working on: Tupi.jpg\tFound average color: [0.085636855337296, 0.04837733935597787, 0.02538722889854609]\n",
      "Currently working on: Ukdah.jpg\tFound average color: [0.07538862960639521, 0.07558244438159126, 0.08557134885828116]\n",
      "Currently working on: Uklun.jpg\tFound average color: [0.08874125117093797, 0.07536149975932106, 0.07277039629134734]\n",
      "Currently working on: Unukalhai.jpg\tFound average color: [0.09753034421963873, 0.07210598187653534, 0.04631475870864801]\n",
      "Currently working on: Unurgunite.jpg\tFound average color: [0.10245021205664967, 0.09374424785326269, 0.08354119475262796]\n",
      "Currently working on: Uruk.jpg\tFound average color: [0.1361228744569179, 0.1168589630417776, 0.09981988937877764]\n",
      "Currently working on: Vega.jpg\tFound average color: [0.29738131764705883, 0.3453911843137255, 0.39671802352941177]\n",
      "Currently working on: Veritate.jpg\tFound average color: [0.07018128627450981, 0.11800373333333333, 0.18471821176470588]\n",
      "Currently working on: Vindemiatrix.jpg\tFound average color: [0.10521737069951029, 0.0886509707883922, 0.07016224869952943]\n",
      "Currently working on: Wasat.jpg\tFound average color: [0.07035403380781625, 0.080528016734293, 0.09678291334217441]\n",
      "Currently working on: Wazn.jpg\tFound average color: [0.12202305457665852, 0.08662631573738086, 0.049827301981710745]\n",
      "Currently working on: Wezen.jpg\tFound average color: [0.1780038472874487, 0.1512560714808663, 0.123496387433535]\n",
      "Currently working on: Wurren.jpg\tFound average color: [0.07291114846118257, 0.07708278785781128, 0.08076387113265233]\n",
      "Currently working on: Xamidimura.jpg\tFound average color: [0.14505335880806855, 0.15281011603335562, 0.17465003419667083]\n",
      "Currently working on: Xuange.jpg\tFound average color: [0.08177052344344797, 0.08548853256786643, 0.09075373254121245]\n",
      "Currently working on: Yed Posterior.jpg\tFound average color: [0.0701674529287082, 0.06606868107326691, 0.06321095007515444]\n",
      "Currently working on: Yed Prior.jpg\tFound average color: [0.1053291684715788, 0.07593985180837082, 0.04464695054843026]\n",
      "Currently working on: Yildun.jpg\tFound average color: [0.06968094640545987, 0.09167635953681907, 0.12913375404447366]\n",
      "Currently working on: Zaurak.jpg\tFound average color: [0.07660659911616459, 0.0759084413027552, 0.08200428583306271]\n",
      "Currently working on: Zavijava.jpg\tFound average color: [0.11503490733210847, 0.10531470876881219, 0.09391498310793853]\n",
      "Currently working on: Zhang.jpg\tFound average color: [0.07851561222360033, 0.08592296211167687, 0.10885814689814852]\n",
      "Currently working on: Zibal.jpg\tFound average color: [0.05742844932164043, 0.09293560311496149, 0.14601349385789703]\n",
      "Currently working on: Zubenelhakrabi.jpg\tFound average color: [0.08595096155657268, 0.07853462294299723, 0.07739499161816503]\n",
      "Currently working on: Zubeneschamali.jpg\tFound average color: [0.04632657254901961, 0.10229319215686275, 0.16192790588235292]\n"
     ]
    },
    {
     "data": {
      "text/plain": "[[0.06546649842841529, 0.061818487417610236, 0.06306176968088248],\n [0.0703063214677277, 0.08608331478327491, 0.11336223848143338],\n [0.2937458249537873, 0.30211427285569037, 0.31357900768110325],\n [0.08292433619808275, 0.07812593964792938, 0.07373762134693837],\n [0.07680351310459976, 0.09873005676739496, 0.13554175485062805],\n [0.08072964511704579, 0.07907467667250362, 0.07036941646690935],\n [0.11784829322960827, 0.09453749855765274, 0.06811300660314612],\n [0.2651931086872978, 0.20092484970427313, 0.13758363732998902],\n [0.06917033239895407, 0.08058319074438881, 0.10438416089838488],\n [0.06310635438620187, 0.07972242085046773, 0.11537501836281855],\n [0.12491983144602706, 0.13380270488277554, 0.14217007122224218],\n [0.11719617254901961, 0.3033600784313725, 0.4911673098039216],\n [0.22426285388452866, 0.20361412718450447, 0.18560973572412626],\n [0.05542055316834692, 0.09200688507468845, 0.13698034290156674],\n [0.055481647058823524, 0.08983621960784313, 0.13452630588235295],\n [0.04278736613358164, 0.0791858854089575, 0.12332583683743727],\n [0.09436457205985796, 0.09452849124340544, 0.09815489835799202],\n [0.11996458041248807, 0.11150909123140092, 0.10434955923180063],\n [0.09043144470876875, 0.10506128480433334, 0.12636097600766777],\n [0.10361441753218044, 0.14083784198226817, 0.18366677588397118],\n [0.11723922684542228, 0.10932089215167153, 0.10263183902992769],\n [0.08188467450980393, 0.16724533333333333, 0.2561868235294118],\n [0.050750826202704956, 0.07175899349272065, 0.10400932009606279],\n [0.059750048798087596, 0.08430680546799474, 0.12288914267606325],\n [0.09979492063177922, 0.09411987746285887, 0.09265057524397596],\n [0.10519721502016602, 0.08332830535944366, 0.06725121373407147],\n [0.13049509890321878, 0.14346036063803014, 0.1600271485478936],\n [0.25217756854703405, 0.3013749497492035, 0.33906590179437457],\n [0.08699416470588235, 0.1759618823529412, 0.2690805176470588],\n [0.2563038901960784, 0.2852779921568627, 0.318593568627451],\n [0.2309278588235294, 0.20419816470588234, 0.17856994509803922],\n [0.16827318932276947, 0.11902263061241744, 0.07124733076295983],\n [0.06868100392156863, 0.08102381176470588, 0.11099185882352941],\n [0.05414278912017609, 0.08350455362605763, 0.13622037233246972],\n [0.12381926738278794, 0.09204365309060632, 0.056403631869874626],\n [0.09302821960784313, 0.10900649411764705, 0.14603333333333335],\n [0.09595342393349937, 0.082832055230017, 0.06434543193673911],\n [0.23214422814866678, 0.2574630378294034, 0.2882730217711678],\n [0.07257304640298455, 0.06410269173494201, 0.05223185953035752],\n [0.11510430126102311, 0.11473940492839128, 0.12188113348198434],\n [0.1587684018440246, 0.15488312350014516, 0.15154471629123056],\n [0.06978529412550409, 0.07339371302580609, 0.08526494450030793],\n [0.07399926343055217, 0.07084985960961192, 0.07046409137545351],\n [0.09536454901960784, 0.2083270431372549, 0.36227512156862746],\n [0.14680869987938536, 0.10411253791659628, 0.05985381296209933],\n [0.09546374702839486, 0.08256503507024339, 0.0923112139225314],\n [0.1480195494565654, 0.11173705073730313, 0.07419060830018483],\n [0.14851027501628974, 0.14223348445328435, 0.14309987404704577],\n [0.4361883294117647, 0.3165711843137255, 0.19894829803921568],\n [0.6658998745098039, 0.549950980392157, 0.43578972549019607],\n [0.10850291345824803, 0.11801008699710874, 0.1303950838756165],\n [0.10229013283545235, 0.1144627370351893, 0.13077603985567499],\n [0.1093365019923014, 0.0983277978330284, 0.08481748858663575],\n [0.11850750903095797, 0.13797268872433938, 0.1591121533752416],\n [0.05918980392156863, 0.09882103529411765, 0.15207803921568627],\n [0.13569214246742126, 0.09003447425100189, 0.04438006949764242],\n [0.11316715844372427, 0.11577223409958255, 0.12065210842768609],\n [0.09622600784313724, 0.24876489411764707, 0.40397690980392154],\n [0.12061499607843137, 0.0938804705882353, 0.06797799215686275],\n [0.09513122254198668, 0.10422758171664372, 0.1168916379039837],\n [0.07471400784313725, 0.17545126274509804, 0.2805769254901961],\n [0.2078110900678897, 0.15168545380063872, 0.09688303851254622],\n [0.17737105882856383, 0.14772824528745962, 0.11795813935048312],\n [0.0962250314061319, 0.10520588893241056, 0.13709261363551298],\n [0.1247781808769131, 0.125195702416811, 0.1273248799601998],\n [0.06470198429813327, 0.1002909580265772, 0.14395130521698557],\n [0.1570948719101374, 0.12438702101387826, 0.09298373409884658],\n [0.08083136646272075, 0.1146073133312141, 0.1609459143718928],\n [0.07038277711366339, 0.06938764938747516, 0.07419752757945258],\n [0.06370769012487815, 0.07372642823904628, 0.10146352742273715],\n [0.08954570501462839, 0.0793307506496551, 0.07265716134189329],\n [0.1123511935296028, 0.08519765115632037, 0.06589568946005415],\n [0.10728904401082809, 0.1579894821863624, 0.21397170939307758],\n [0.39044170980392157, 0.2888064156862745, 0.18822743529411765],\n [0.05225040140904304, 0.08176276945248936, 0.1223979027554424],\n [0.10924635294117647, 0.1708318274509804, 0.25983816470588234],\n [0.06529221363742191, 0.08307332290840928, 0.11638637508298623],\n [0.1538086943368919, 0.11303697075294743, 0.06690020563322535],\n [0.06847973333333333, 0.09427444705882353, 0.13652423529411764],\n [0.06999145098039215, 0.08343385098039216, 0.10670730980392157],\n [0.10726603921568628, 0.14806001568627453, 0.20490633725490198],\n [0.08464158379161363, 0.08143580759566, 0.08609216310265674],\n [0.37133682696017534, 0.3642721885772704, 0.35458008506973504],\n [0.07500003137254903, 0.12572716862745098, 0.18061353725490195],\n [0.11873284705882353, 0.1875969725490196, 0.26088883137254903],\n [0.09547576170574769, 0.09450290449277715, 0.10093334201660897],\n [0.09342641128425655, 0.08425944136760519, 0.07379560665990807],\n [0.06806772325128517, 0.13178029182704964, 0.21252392460550232],\n [0.07777989019607844, 0.12714778039215685, 0.20236936470588235],\n [0.07571979607843136, 0.11243112156862745, 0.15774343529411763],\n [0.1340129451437357, 0.21440515691129663, 0.32385318546368336],\n [0.07413715778831047, 0.07826961075026109, 0.09379508202646332],\n [0.0880002936592106, 0.08010042235438511, 0.07109794842171574],\n [0.09854691503945495, 0.09212330971385858, 0.08863114740731338],\n [0.08859129961138534, 0.09565852765833531, 0.13774974386101305],\n [0.06873135313407035, 0.08347068978316939, 0.10104763819575009],\n [0.04905465196837446, 0.090487822539123, 0.14717972458471298],\n [0.061652442862320245, 0.08953205745121205, 0.12756740159267344],\n [0.13356418823529412, 0.16956172549019607, 0.21248583529411766],\n [0.07361716245373777, 0.07774434445355452, 0.08507934966264664],\n [0.06839918782920872, 0.11258896899430108, 0.16353419062472413],\n [0.05657749879333597, 0.059547436274863544, 0.0717813906812327],\n [0.14960385882352942, 0.19333016470588235, 0.28537107450980387],\n [0.12333623185607567, 0.09655304975530518, 0.06895613074448867],\n [0.12114931606576167, 0.07551912884639717, 0.048535888986651864],\n [0.07363805726013622, 0.06780918338533165, 0.06532204522132],\n [0.14574410541279897, 0.11659537533210779, 0.08903258816139432],\n [0.14223446269244164, 0.215508708194465, 0.35274813959000023],\n [0.11609366274509804, 0.08355634509803922, 0.04982649411764706],\n [0.11354395294117646, 0.28952045490196077, 0.4676492862745098],\n [0.07652613092573927, 0.08523238869884683, 0.10611859409864023],\n [0.09844853333333332, 0.1822881568627451, 0.2700796705882353],\n [0.19692905098039215, 0.1358323607843137, 0.07795540392156862],\n [0.12580320096377762, 0.10000724214151145, 0.07383379748163356],\n [0.06841151199797835, 0.08167632399882728, 0.11102640977990569],\n [0.13912010980392156, 0.08775364705882352, 0.04030503529411765],\n [0.09126932910870754, 0.08357157223376135, 0.07090193663633235],\n [0.07976472156862745, 0.11797325490196078, 0.16734715294117647],\n [0.10589699204146019, 0.1231527412813606, 0.1444533539504585],\n [0.10401027634392347, 0.09171713870442781, 0.08133128760875172],\n [0.1582638868463644, 0.16585377982069446, 0.19488698793583714],\n [0.17287169620456516, 0.18269637337108563, 0.21797331234868653],\n [0.12463490196078432, 0.17484473725490196, 0.2312670588235294],\n [0.21165839777918843, 0.18801647987430695, 0.14714977776114507],\n [0.11259104974800582, 0.13455754704861167, 0.18026448525313693],\n [0.036571890196078434, 0.10175386666666666, 0.17920869019607844],\n [0.10717403182209638, 0.11300069405235774, 0.13926243819430764],\n [0.07740864868996633, 0.0818620412735276, 0.08995555131950188],\n [0.3296049252567656, 0.2533163437388717, 0.17687940525438114],\n [0.2834732795509423, 0.2142639729353129, 0.14694555203500453],\n [0.0856667592450161, 0.08575283590884103, 0.09032424330155595],\n [0.09067330960138464, 0.10447222964532943, 0.12318948844029755],\n [0.17649283831457374, 0.135603312154961, 0.10188527840294015],\n [0.09253975969806238, 0.07614527298378598, 0.055668577512027445],\n [0.057963545098039214, 0.11546166274509803, 0.17985323921568627],\n [0.1550707294117647, 0.09591068235294117, 0.04018338823529412],\n [0.09298134084982801, 0.08546955342632287, 0.07773240025774977],\n [0.06938055723949245, 0.06498013482963645, 0.07718549971385624],\n [0.27378179647056944, 0.19807033999421775, 0.12652367064047015],\n [0.21494076862745098, 0.32473676862745093, 0.4374969568627451],\n [0.07629696674721564, 0.09361861968703224, 0.11577589988270272],\n [0.1233570573878974, 0.1225161445772535, 0.12420250956014685],\n [0.35827313353892354, 0.3325382838598475, 0.30966513087575326],\n [0.06550461867656614, 0.09248867353611767, 0.12934137037283805],\n [0.047680547489808926, 0.07210661405865128, 0.10655474600035703],\n [0.09625169481070081, 0.12935601546327755, 0.19515384728205581],\n [0.11165251350484151, 0.1034866759974557, 0.08703232245599428],\n [0.19887508625826833, 0.16262995624611865, 0.13265269822140255],\n [0.12190973847657839, 0.12031288699096848, 0.1205772245000876],\n [0.10006729354221237, 0.06205752574219192, 0.03295209215928654],\n [0.18389864932008745, 0.16166452116788857, 0.1284150548366899],\n [0.10477289411764706, 0.21189221960784313, 0.32237134117647054],\n [0.047146215959542534, 0.07070322120559826, 0.10673834697006632],\n [0.05642216597348625, 0.06197573577167071, 0.0830158657697087],\n [0.14923766448955122, 0.09659799631338227, 0.04523763248929521],\n [0.09009701960784314, 0.1096448156862745, 0.1486826980392157],\n [0.17047526274509806, 0.23463105882352941, 0.3026043450980392],\n [0.29302727307669074, 0.3037323380766476, 0.29756722179210526],\n [0.12699835294117648, 0.08341449411764706, 0.042424],\n [0.08933390682811737, 0.11578978906341054, 0.16482389114014875],\n [0.16120412549019608, 0.11797225098039216, 0.0761977725490196],\n [0.15758986931375807, 0.12950450020769705, 0.1151652614631624],\n [0.08068910066960915, 0.07615619568942064, 0.07287948958261418],\n [0.09655887813189741, 0.10290330116313923, 0.10882789524857595],\n [0.15317146786905803, 0.1409875850225228, 0.12866625497078676],\n [0.1694195198634037, 0.16700887202270387, 0.168480844266213],\n [0.13371716600068395, 0.1265531631864028, 0.13165440087686547],\n [0.08087017961306386, 0.09280479440880295, 0.11964632403140467],\n [0.10282287678909648, 0.08888411770223224, 0.07281900676820152],\n [0.09336167899828585, 0.10978464275167855, 0.14897590500829624],\n [0.07921408940537722, 0.12228704601092914, 0.17357528253642426],\n [0.11533866666666666, 0.303354431372549, 0.49305877647058827],\n [0.060980690196078435, 0.08833607843137255, 0.12411410196078432],\n [0.21758214901960785, 0.2038142745098039, 0.18604040784313725],\n [0.08533721245445819, 0.08412916123813324, 0.08861940086252383],\n [0.0709146024302323, 0.08080294444453598, 0.09246043581162541],\n [0.08530782629766463, 0.12034324515069236, 0.15722069232530572],\n [0.07330117153227247, 0.08230678957237292, 0.10274487528164322],\n [0.09763770359815274, 0.08021209780337361, 0.060509180344486324],\n [0.22117603137254901, 0.15298061176470587, 0.08732735686274509],\n [0.14486705722445972, 0.11540132785864855, 0.08054127720882542],\n [0.13725510600232937, 0.13897775028971937, 0.1412587150263963],\n [0.14341506694768763, 0.14789503279541766, 0.1537785029113495],\n [0.12425112979480901, 0.07052219317257803, 0.028662170939442903],\n [0.10405459933169409, 0.08136567681735074, 0.05613623037639493],\n [0.06717877647058823, 0.11870618039215686, 0.18633267450980392],\n [0.10577177968472906, 0.08566124290017177, 0.06638837028768313],\n [0.09979779492880347, 0.09071771984855896, 0.08217311419013633],\n [0.1145295247847658, 0.13157693415087385, 0.16066200735391178],\n [0.0835034556550072, 0.08206695315452672, 0.07974570493943252],\n [0.17388643472999238, 0.19062715825683516, 0.22710008922333433],\n [0.08413802352941177, 0.14654523921568627, 0.25046374901960783],\n [0.10676840655075301, 0.11191671825591015, 0.12626369276787594],\n [0.0561394574672092, 0.07407602117204962, 0.10241171442473544],\n [0.08796233765561459, 0.10431290034594878, 0.14248027693472404],\n [0.07742067758289388, 0.08508020185349503, 0.10682757156416066],\n [0.09696966552898449, 0.10336437632080468, 0.12265553288156174],\n [0.09117125479552245, 0.0971281067081226, 0.12064472071768678],\n [0.09912406309720162, 0.141535508315043, 0.18988249695788242],\n [0.08953290842508772, 0.07844277811298946, 0.062262236350269735],\n [0.09077606097840467, 0.11232986454420005, 0.17017244492299188],\n [0.12952198189080247, 0.10205638133290951, 0.08688489386309897],\n [0.07808777824901764, 0.07928120562256921, 0.08188282643126547],\n [0.09569417180171051, 0.08015944246436925, 0.06343436187951783],\n [0.1486051855261057, 0.15835164735184784, 0.19025084009187285],\n [0.07082177281447223, 0.050558245226427864, 0.03574425361870757],\n [0.11830218433521865, 0.1740515002316128, 0.23337343873305558],\n [0.046305063651627155, 0.07941510981730202, 0.126075814107178],\n [0.1266438117647059, 0.08730346666666668, 0.05309225098039216],\n [0.11680136793817773, 0.1378113665948244, 0.16101404524291205],\n [0.11949537552053738, 0.08338023014825734, 0.055784973592001005],\n [0.05320677647058824, 0.08677541960784314, 0.12945032156862746],\n [0.06724637667486805, 0.08481896896556929, 0.10501597193919908],\n [0.08307582161250837, 0.093287758762712, 0.10791151167966205],\n [0.10848071464912058, 0.11152367626736319, 0.12370038758704545],\n [0.07897010351390067, 0.11827998888121283, 0.18253294693665492],\n [0.49211420152601326, 0.48049919431643984, 0.47023869258033696],\n [0.07423035294117647, 0.17387896470588238, 0.27797272156862746],\n [0.1431859321376899, 0.1469151919566319, 0.1652236054630824],\n [0.09229616012581274, 0.1011922584097114, 0.11936385880983909],\n [0.20583202372250778, 0.16465315276941703, 0.12451840915113215],\n [0.19396745549230038, 0.196487299357527, 0.20304444798319599],\n [0.051687979948855656, 0.07641574814216635, 0.10857472543090102],\n [0.10976972480626082, 0.10247317103204809, 0.08869076205053514],\n [0.05773491764705882, 0.09028523921568626, 0.1387277960784314],\n [0.1504833594361632, 0.11198488303633077, 0.07221055775308974],\n [0.21743467792585172, 0.1581700811137152, 0.10766586284271196],\n [0.10643072021974805, 0.08193621770160266, 0.07014995852901819],\n [0.07662063512102045, 0.08862281579405203, 0.1112603781382504],\n [0.13407694415091384, 0.087495738218247, 0.04337333427765084],\n [0.08714990554919964, 0.08127733598058036, 0.07485180548015025],\n [0.2986924179646797, 0.3790414791139647, 0.46286146431541475],\n [0.3848949897238238, 0.4410842160114129, 0.49953309504496207],\n [0.050098469860378414, 0.039999958797563955, 0.03375059515730337],\n [0.04644669528462245, 0.06545482188990359, 0.08816606129304062],\n [0.05909058930353368, 0.09184516738066952, 0.1364636203642854],\n [0.08327466549102841, 0.07448263144723792, 0.062045725437015434],\n [0.062326067235988866, 0.070359558954903, 0.09047112376899015],\n [0.08109303138623788, 0.07272314792310001, 0.06501663212625376],\n [0.2134500394767205, 0.17741828052174843, 0.1433990734853701],\n [0.10875743895132443, 0.13321794463648443, 0.19090736755103885],\n [0.10022954067702418, 0.10329324149179489, 0.10558029415002121],\n [0.0420528690586412, 0.07678910731794, 0.1287339497116644],\n [0.03919250998511801, 0.0353944077720633, 0.041662219528020385],\n [0.20880408491496566, 0.20364168095947127, 0.1983264539394739],\n [0.07659558206564135, 0.08088178207664273, 0.09209469147773404],\n [0.1491344115445344, 0.13187856599168382, 0.11289696918228312],\n [0.09743884892990637, 0.10030549413357932, 0.1089924601414452],\n [0.08966058145232192, 0.0899959948762037, 0.0917958052291976],\n [0.11664750699428098, 0.22695228743259682, 0.3460745664785699],\n [0.06271061946992887, 0.10521397379707166, 0.1559881063053664],\n [0.06761320621287774, 0.088809717734885, 0.11942156160669173],\n [0.09634275843919848, 0.09636881316219945, 0.1021319784243438],\n [0.424092031372549, 0.5444116235294117, 0.6692527843137255],\n [0.10854695322092647, 0.10613065519043581, 0.10897548370331121],\n [0.04159555921264498, 0.0659281325374451, 0.09873919956868966],\n [0.1520518274509804, 0.2372313568627451, 0.3259107137254902],\n [0.07102725659946545, 0.06240646884001153, 0.06407645839980308],\n [0.0799149527612972, 0.080939373284604, 0.07706482996514762],\n [0.1319715460295781, 0.08804231945259189, 0.049227464226064936],\n [0.0940661949619256, 0.09962805770149795, 0.11202960761105815],\n [0.07849855541923907, 0.08389751960749012, 0.10090827882962168],\n [0.1004664223520642, 0.07868003282315619, 0.056320171517542275],\n [0.11028864084786263, 0.07754338201468558, 0.04461685740360108],\n [0.21770407843137254, 0.19835413333333332, 0.17047132549019609],\n [0.11549049545887143, 0.08226481302903675, 0.045413854066216654],\n [0.11354047691562039, 0.10533251080781725, 0.10046213277348835],\n [0.07272073257487015, 0.06942458300414471, 0.07062053274911595],\n [0.11362679876352547, 0.1009514365517706, 0.10364404505606674],\n [0.14845846525395373, 0.11360894181093145, 0.07777169674185641],\n [0.08057904093060766, 0.076583682044475, 0.07989504932164113],\n [0.05215210894697862, 0.07707353354379122, 0.1095753929557212],\n [0.1853267294117647, 0.11460021960784314, 0.047644],\n [0.12047578457523879, 0.12899632766218577, 0.14934776384139636],\n [0.11050344080505348, 0.11679106590830116, 0.13200537790025],\n [0.08102916560257939, 0.062449373963618215, 0.04867245451688868],\n [0.3851365594543034, 0.4411981905810533, 0.4998175097028126],\n [0.13678063782474204, 0.14733107346551108, 0.1767438285141369],\n [0.08155317647058824, 0.0985723137254902, 0.13156149019607843],\n [0.27874857686150756, 0.1379687806990461, 0.061590800147209974],\n [0.085636855337296, 0.04837733935597787, 0.02538722889854609],\n [0.07538862960639521, 0.07558244438159126, 0.08557134885828116],\n [0.08874125117093797, 0.07536149975932106, 0.07277039629134734],\n [0.09753034421963873, 0.07210598187653534, 0.04631475870864801],\n [0.10245021205664967, 0.09374424785326269, 0.08354119475262796],\n [0.1361228744569179, 0.1168589630417776, 0.09981988937877764],\n [0.29738131764705883, 0.3453911843137255, 0.39671802352941177],\n [0.07018128627450981, 0.11800373333333333, 0.18471821176470588],\n [0.10521737069951029, 0.0886509707883922, 0.07016224869952943],\n [0.07035403380781625, 0.080528016734293, 0.09678291334217441],\n [0.12202305457665852, 0.08662631573738086, 0.049827301981710745],\n [0.1780038472874487, 0.1512560714808663, 0.123496387433535],\n [0.07291114846118257, 0.07708278785781128, 0.08076387113265233],\n [0.14505335880806855, 0.15281011603335562, 0.17465003419667083],\n [0.08177052344344797, 0.08548853256786643, 0.09075373254121245],\n [0.0701674529287082, 0.06606868107326691, 0.06321095007515444],\n [0.1053291684715788, 0.07593985180837082, 0.04464695054843026],\n [0.06968094640545987, 0.09167635953681907, 0.12913375404447366],\n [0.07660659911616459, 0.0759084413027552, 0.08200428583306271],\n [0.11503490733210847, 0.10531470876881219, 0.09391498310793853],\n [0.07851561222360033, 0.08592296211167687, 0.10885814689814852],\n [0.05742844932164043, 0.09293560311496149, 0.14601349385789703],\n [0.08595096155657268, 0.07853462294299723, 0.07739499161816503],\n [0.04632657254901961, 0.10229319215686275, 0.16192790588235292]]"
     },
     "execution_count": 34,
     "metadata": {},
     "output_type": "execute_result"
    }
   ],
   "source": [
    "from PIL import ImageStat\n",
    "height, width, channels = 500, 500, 3\n",
    "target_size = (500, 500)\n",
    "image_dir = 'Star Images/'\n",
    "image_files = [(f + \".jpg\") for f in list(df[\"Star Name\"])]\n",
    "images = []\n",
    "for image_file in image_files:\n",
    "    print(\"Currently working on: \" + image_file, end=\"\\t\")\n",
    "    img_path = os.path.join(image_dir, image_file)\n",
    "    img = Image.open(img_path)\n",
    "    test_array = list(image.img_to_array(img))\n",
    "    for i in range(len(test_array)):\n",
    "        test_array[i] = list(test_array[i])\n",
    "        for j in range(len(test_array[i])):\n",
    "            test_array[i][j] = list(test_array[i][j])\n",
    "    \n",
    "    new_array = []\n",
    "    for i in range(len(test_array)):\n",
    "        for j in range(len(test_array[i])):\n",
    "            new_array.append(test_array[i][j])\n",
    "    \n",
    "    # remove all [0.0, 0.0, 0.0] from new_array\n",
    "    new_array = [i for i in new_array if i != [0.0, 0.0, 0.0]]\n",
    "\n",
    "    r = 0\n",
    "    g = 0\n",
    "    b = 0\n",
    "    for i in range(len(new_array)):\n",
    "        r += new_array[i][0]\n",
    "        g += new_array[i][1]\n",
    "        b += new_array[i][2]\n",
    "    r = r / len(new_array)\n",
    "    g = g / len(new_array)\n",
    "    b = b / len(new_array)\n",
    "    avg_val = [r / 255, g / 255, b / 255]\n",
    "    images.append(avg_val)\n",
    "    print(\"Found average color: \" + str(avg_val))\n",
    "images"
   ],
   "metadata": {
    "collapsed": false,
    "ExecuteTime": {
     "end_time": "2023-11-25T03:01:39.264921Z",
     "start_time": "2023-11-25T02:58:26.723442Z"
    }
   },
   "id": "af3afcab9401e120"
  },
  {
   "cell_type": "code",
   "execution_count": 21,
   "outputs": [
    {
     "data": {
      "text/plain": "          Star Name  Distance (pc)  \\\n0         Absolutno     273.845058   \n1            Acamar      49.431537   \n2          Achernar      42.753313   \n3            Achird       5.923041   \n4           Acubens      54.554183   \n..              ...            ...   \n299        Zavijava      11.001766   \n300           Zhang      76.182930   \n301           Zibal      36.503011   \n302  Zubenelhakrabi      50.025013   \n303  Zubeneschamali      56.753689   \n\n                                             Image URL       Spectral Class  \\\n0    https://alasky.u-strasbg.fr/hips-image-service...      ('G', '8', 'V')   \n1    https://alasky.u-strasbg.fr/hips-image-service...      ('A', '2', 'V')   \n2    https://alasky.u-strasbg.fr/hips-image-service...      ('B', '6', 'V')   \n3    https://alasky.u-strasbg.fr/hips-image-service...      ('F', '9', 'V')   \n4    https://alasky.u-strasbg.fr/hips-image-service...      ('A', '7', 'V')   \n..                                                 ...                  ...   \n299  https://alasky.u-strasbg.fr/hips-image-service...      ('F', '9', 'V')   \n300  https://alasky.u-strasbg.fr/hips-image-service...    ('G', '7', 'III')   \n301  https://alasky.u-strasbg.fr/hips-image-service...      ('A', '4', 'V')   \n302  https://alasky.u-strasbg.fr/hips-image-service...  ('G', '8.5', 'III')   \n303  https://alasky.u-strasbg.fr/hips-image-service...      ('B', '8', 'V')   \n\n     Center Pixel       L/L_o  \\\n0             255    0.656000   \n1             255   23.600000   \n2             233   97.521203   \n3             255    1.193670   \n4             255    8.149287   \n..            ...         ...   \n299           255    1.193670   \n300           255   40.426122   \n301           255   15.118020   \n302           255   46.156500   \n303           255  383.686686   \n\n                                         Average Color  \n0    [0.18407557354925777, 0.2252093279957057, 0.26...  \n1    [0.33405011603654416, 0.38383178070734775, 0.4...  \n2    [0.44570507710747476, 0.45847512151200503, 0.4...  \n3    [0.37773370776278403, 0.3622124472940845, 0.33...  \n4    [0.2444099031193941, 0.32214194401701723, 0.39...  \n..                                                 ...  \n299  [0.39950074485646414, 0.3782289096336686, 0.33...  \n300  [0.4033222833279631, 0.3809834322736615, 0.341...  \n301  [0.24679645392315078, 0.29872981468004095, 0.3...  \n302  [0.40048905343022995, 0.34168661906218467, 0.2...  \n303  [0.2506640300471481, 0.3508702375455587, 0.452...  \n\n[304 rows x 7 columns]",
      "text/html": "<div>\n<style scoped>\n    .dataframe tbody tr th:only-of-type {\n        vertical-align: middle;\n    }\n\n    .dataframe tbody tr th {\n        vertical-align: top;\n    }\n\n    .dataframe thead th {\n        text-align: right;\n    }\n</style>\n<table border=\"1\" class=\"dataframe\">\n  <thead>\n    <tr style=\"text-align: right;\">\n      <th></th>\n      <th>Star Name</th>\n      <th>Distance (pc)</th>\n      <th>Image URL</th>\n      <th>Spectral Class</th>\n      <th>Center Pixel</th>\n      <th>L/L_o</th>\n      <th>Average Color</th>\n    </tr>\n  </thead>\n  <tbody>\n    <tr>\n      <th>0</th>\n      <td>Absolutno</td>\n      <td>273.845058</td>\n      <td>https://alasky.u-strasbg.fr/hips-image-service...</td>\n      <td>('G', '8', 'V')</td>\n      <td>255</td>\n      <td>0.656000</td>\n      <td>[0.18407557354925777, 0.2252093279957057, 0.26...</td>\n    </tr>\n    <tr>\n      <th>1</th>\n      <td>Acamar</td>\n      <td>49.431537</td>\n      <td>https://alasky.u-strasbg.fr/hips-image-service...</td>\n      <td>('A', '2', 'V')</td>\n      <td>255</td>\n      <td>23.600000</td>\n      <td>[0.33405011603654416, 0.38383178070734775, 0.4...</td>\n    </tr>\n    <tr>\n      <th>2</th>\n      <td>Achernar</td>\n      <td>42.753313</td>\n      <td>https://alasky.u-strasbg.fr/hips-image-service...</td>\n      <td>('B', '6', 'V')</td>\n      <td>233</td>\n      <td>97.521203</td>\n      <td>[0.44570507710747476, 0.45847512151200503, 0.4...</td>\n    </tr>\n    <tr>\n      <th>3</th>\n      <td>Achird</td>\n      <td>5.923041</td>\n      <td>https://alasky.u-strasbg.fr/hips-image-service...</td>\n      <td>('F', '9', 'V')</td>\n      <td>255</td>\n      <td>1.193670</td>\n      <td>[0.37773370776278403, 0.3622124472940845, 0.33...</td>\n    </tr>\n    <tr>\n      <th>4</th>\n      <td>Acubens</td>\n      <td>54.554183</td>\n      <td>https://alasky.u-strasbg.fr/hips-image-service...</td>\n      <td>('A', '7', 'V')</td>\n      <td>255</td>\n      <td>8.149287</td>\n      <td>[0.2444099031193941, 0.32214194401701723, 0.39...</td>\n    </tr>\n    <tr>\n      <th>...</th>\n      <td>...</td>\n      <td>...</td>\n      <td>...</td>\n      <td>...</td>\n      <td>...</td>\n      <td>...</td>\n      <td>...</td>\n    </tr>\n    <tr>\n      <th>299</th>\n      <td>Zavijava</td>\n      <td>11.001766</td>\n      <td>https://alasky.u-strasbg.fr/hips-image-service...</td>\n      <td>('F', '9', 'V')</td>\n      <td>255</td>\n      <td>1.193670</td>\n      <td>[0.39950074485646414, 0.3782289096336686, 0.33...</td>\n    </tr>\n    <tr>\n      <th>300</th>\n      <td>Zhang</td>\n      <td>76.182930</td>\n      <td>https://alasky.u-strasbg.fr/hips-image-service...</td>\n      <td>('G', '7', 'III')</td>\n      <td>255</td>\n      <td>40.426122</td>\n      <td>[0.4033222833279631, 0.3809834322736615, 0.341...</td>\n    </tr>\n    <tr>\n      <th>301</th>\n      <td>Zibal</td>\n      <td>36.503011</td>\n      <td>https://alasky.u-strasbg.fr/hips-image-service...</td>\n      <td>('A', '4', 'V')</td>\n      <td>255</td>\n      <td>15.118020</td>\n      <td>[0.24679645392315078, 0.29872981468004095, 0.3...</td>\n    </tr>\n    <tr>\n      <th>302</th>\n      <td>Zubenelhakrabi</td>\n      <td>50.025013</td>\n      <td>https://alasky.u-strasbg.fr/hips-image-service...</td>\n      <td>('G', '8.5', 'III')</td>\n      <td>255</td>\n      <td>46.156500</td>\n      <td>[0.40048905343022995, 0.34168661906218467, 0.2...</td>\n    </tr>\n    <tr>\n      <th>303</th>\n      <td>Zubeneschamali</td>\n      <td>56.753689</td>\n      <td>https://alasky.u-strasbg.fr/hips-image-service...</td>\n      <td>('B', '8', 'V')</td>\n      <td>255</td>\n      <td>383.686686</td>\n      <td>[0.2506640300471481, 0.3508702375455587, 0.452...</td>\n    </tr>\n  </tbody>\n</table>\n<p>304 rows × 7 columns</p>\n</div>"
     },
     "execution_count": 21,
     "metadata": {},
     "output_type": "execute_result"
    }
   ],
   "source": [
    "df[\"Average Color\"] = images\n",
    "df"
   ],
   "metadata": {
    "collapsed": false,
    "ExecuteTime": {
     "end_time": "2023-11-22T22:59:56.815388Z",
     "start_time": "2023-11-22T22:59:56.811360Z"
    }
   },
   "id": "80a22d61a1e440c7"
  },
  {
   "cell_type": "code",
   "execution_count": 23,
   "outputs": [],
   "source": [
    "df.to_csv(\"star_data_with_average_color.csv\", index=False)"
   ],
   "metadata": {
    "collapsed": false,
    "ExecuteTime": {
     "end_time": "2023-11-22T23:00:13.255663Z",
     "start_time": "2023-11-22T23:00:13.249Z"
    }
   },
   "id": "e0aa8db6d568a51c"
  },
  {
   "cell_type": "code",
   "execution_count": 6,
   "outputs": [
    {
     "data": {
      "text/plain": "(304, 3)"
     },
     "execution_count": 6,
     "metadata": {},
     "output_type": "execute_result"
    }
   ],
   "source": [
    "df = pd.read_csv(\"star_data_with_average_color.csv\")\n",
    "images = list(map(eval, list(df[\"Average Color\"])))\n",
    "images = np.array(images)\n",
    "images.shape"
   ],
   "metadata": {
    "collapsed": false,
    "ExecuteTime": {
     "end_time": "2023-11-25T02:33:35.510045Z",
     "start_time": "2023-11-25T02:33:35.501375Z"
    }
   },
   "id": "400c8f741e5a3612"
  },
  {
   "cell_type": "code",
   "execution_count": 10,
   "outputs": [],
   "source": [
    "luminosities = np.array(list(df[\"L/L_o\"]))\n",
    "# for i in range(len(luminosities)):\n",
    "#     images[i] = images[i] / luminosities[i]\n",
    "# images"
   ],
   "metadata": {
    "collapsed": false,
    "ExecuteTime": {
     "end_time": "2023-11-25T02:35:43.329054Z",
     "start_time": "2023-11-25T02:35:43.324624Z"
    }
   },
   "id": "a5a6bbffcfb84b03"
  },
  {
   "cell_type": "code",
   "execution_count": 68,
   "outputs": [
    {
     "name": "stderr",
     "output_type": "stream",
     "text": [
      "2023-11-22 18:35:59.899081: I metal_plugin/src/device/metal_device.cc:1154] Metal device set to: Apple M2 Max\n",
      "2023-11-22 18:35:59.899102: I metal_plugin/src/device/metal_device.cc:296] systemMemory: 32.00 GB\n",
      "2023-11-22 18:35:59.899111: I metal_plugin/src/device/metal_device.cc:313] maxCacheSize: 10.67 GB\n",
      "2023-11-22 18:35:59.899473: I tensorflow/core/common_runtime/pluggable_device/pluggable_device_factory.cc:303] Could not identify NUMA node of platform GPU ID 0, defaulting to 0. Your kernel may not have been built with NUMA support.\n",
      "2023-11-22 18:35:59.899821: I tensorflow/core/common_runtime/pluggable_device/pluggable_device_factory.cc:269] Created TensorFlow device (/job:localhost/replica:0/task:0/device:GPU:0 with 0 MB memory) -> physical PluggableDevice (device: 0, name: METAL, pci bus id: <undefined>)\n"
     ]
    },
    {
     "name": "stdout",
     "output_type": "stream",
     "text": [
      "Model: \"model\"\n",
      "_________________________________________________________________\n",
      " Layer (type)                Output Shape              Param #   \n",
      "=================================================================\n",
      " image_input (InputLayer)    [(None, 3)]               0         \n",
      "                                                                 \n",
      " flatten_4 (Flatten)         (None, 3)                 0         \n",
      "                                                                 \n",
      " concatenate_4 (Concatenate  (None, 3)                 0         \n",
      " )                                                               \n",
      "                                                                 \n",
      " dense (Dense)               (None, 64)                256       \n",
      "                                                                 \n",
      " dense_1 (Dense)             (None, 32)                2080      \n",
      "                                                                 \n",
      " distance_output (Dense)     (None, 1)                 33        \n",
      "                                                                 \n",
      "=================================================================\n",
      "Total params: 2369 (9.25 KB)\n",
      "Trainable params: 2369 (9.25 KB)\n",
      "Non-trainable params: 0 (0.00 Byte)\n",
      "_________________________________________________________________\n",
      "Epoch 1/10\n"
     ]
    },
    {
     "name": "stderr",
     "output_type": "stream",
     "text": [
      "2023-11-22 18:36:00.737681: I tensorflow/core/grappler/optimizers/custom_graph_optimizer_registry.cc:114] Plugin optimizer for device_type GPU is enabled.\n"
     ]
    },
    {
     "name": "stdout",
     "output_type": "stream",
     "text": [
      "10/10 [==============================] - 3s 83ms/step - loss: 431958.0938\n",
      "Epoch 2/10\n",
      "10/10 [==============================] - 0s 5ms/step - loss: 431909.6562\n",
      "Epoch 3/10\n",
      "10/10 [==============================] - 0s 5ms/step - loss: 431870.1875\n",
      "Epoch 4/10\n",
      "10/10 [==============================] - 0s 4ms/step - loss: 431823.2812\n",
      "Epoch 5/10\n",
      "10/10 [==============================] - 0s 4ms/step - loss: 431763.4688\n",
      "Epoch 6/10\n",
      "10/10 [==============================] - 0s 5ms/step - loss: 431693.4062\n",
      "Epoch 7/10\n",
      "10/10 [==============================] - 0s 5ms/step - loss: 431596.4062\n",
      "Epoch 8/10\n",
      "10/10 [==============================] - 0s 5ms/step - loss: 431469.4062\n",
      "Epoch 9/10\n",
      "10/10 [==============================] - 0s 5ms/step - loss: 431352.4688\n",
      "Epoch 10/10\n",
      "10/10 [==============================] - 0s 5ms/step - loss: 431164.5625\n",
      "10/10 [==============================] - 0s 9ms/step\n"
     ]
    },
    {
     "name": "stderr",
     "output_type": "stream",
     "text": [
      "2023-11-22 18:36:03.525795: I tensorflow/core/grappler/optimizers/custom_graph_optimizer_registry.cc:114] Plugin optimizer for device_type GPU is enabled.\n"
     ]
    },
    {
     "name": "stdout",
     "output_type": "stream",
     "text": [
      "[[0.98333191 0.90766071 0.89323697 ... 0.87495626 0.90875618 0.91957398]\n",
      " [0.98756855 0.93113117 0.9203736  ... 0.90673941 0.9319482  0.94001637]\n",
      " [0.98771772 0.93195757 0.92132909 ... 0.90785851 0.9327648  0.94073615]\n",
      " ...\n",
      " [0.98752248 0.93087597 0.92007855 ... 0.90639384 0.93169603 0.9397941 ]\n",
      " [0.98768976 0.93180268 0.92115001 ... 0.90764876 0.93261174 0.94060124]\n",
      " [0.98776452 0.93221683 0.92162885 ... 0.90820959 0.93302098 0.94096196]]\n",
      "R2 score: -0.043245972633839225\n"
     ]
    }
   ],
   "source": [
    "def create_model():\n",
    "    # Image input\n",
    "    image_input = layers.Input(shape=(3,), name='image_input')\n",
    "    # image_input = layers.Input(shape=(1,), name='image_input')\n",
    "\n",
    "    # Luminosity input\n",
    "    # luminosity_input = layers.Input(shape=(1,), name='luminosity_input')\n",
    "\n",
    "    # Flatten the image and concatenate with the luminosity input\n",
    "    flat_image = layers.Flatten()(image_input)\n",
    "    concatenated_input = layers.Concatenate()([flat_image])\n",
    "\n",
    "    # Dense layers for correlation\n",
    "    dense1 = layers.Dense(64, activation='relu')(concatenated_input)\n",
    "    dense2 = layers.Dense(32, activation='relu')(dense1)\n",
    "\n",
    "    # Output layer for distance prediction\n",
    "    distance_output = layers.Dense(1, name='distance_output')(dense2)\n",
    "\n",
    "    # Define the model with two inputs and one output\n",
    "    model = models.Model(inputs=[image_input], outputs=distance_output)\n",
    "\n",
    "    return model\n",
    "\n",
    "y_distance = np.array(list(df[\"Distance (pc)\"]))\n",
    "# Create an instance of the model\n",
    "model = create_model()\n",
    "\n",
    "# Compile the model\n",
    "model.compile(optimizer='adam', loss='mean_squared_error')\n",
    "\n",
    "# Display the model summary\n",
    "model.summary()\n",
    "\n",
    "# Train the model\n",
    "model.fit(images, y_distance, epochs=10, batch_size=32)\n",
    "\n",
    "# Find the model accuracy\n",
    "y_pred = np.abs(model.predict(images))\n",
    "print(np.abs(y_distance - y_pred) / y_distance)\n",
    "# print()\n",
    "r2 = r2_score(y_distance, y_pred, force_finite=True)\n",
    "print(\"R2 score: {}\".format(r2))"
   ],
   "metadata": {
    "collapsed": false,
    "ExecuteTime": {
     "end_time": "2023-11-22T23:36:03.730598Z",
     "start_time": "2023-11-22T23:35:59.893120Z"
    }
   },
   "id": "23e8ae37eac1927e"
  },
  {
   "cell_type": "code",
   "execution_count": 19,
   "outputs": [
    {
     "data": {
      "text/plain": "array([ 15531.67418061,  21190.89405927,  75122.53249675,  19133.36987556,\n        24228.51973725,  19718.65162068,  24793.70244843,  53675.89297251,\n        19964.88194095,  19774.74742465,  33076.2758811 ,  72156.81421724,\n        51907.20373155,  22171.93586933,  21721.55487086,  19050.98031471,\n        23615.10926692,  28282.7519823 ,  25839.57650656,  34046.71262818,\n        27423.59287853,  39848.81268116,  14640.07313339,  20326.09561629,\n        23823.58430082,  22038.28520272,  35362.73249603,  73179.83171826,\n        41939.33414908,  70253.93390245,  52340.74210492,  32555.72718277,\n        20172.44157553,  20595.17644386,  24704.52645905,  27095.40251168,\n        21252.29338451,  63302.1407452 ,  16107.66885708,  28824.07165819,\n        38791.85285739,  18322.04582018,  17873.639107  ,  50686.4134157 ,\n        28424.51745243,  21515.69051527,  29859.41117276,  35858.90317211,\n        85802.95586183, 143345.98907844,  29118.27468209,  28105.41941835,\n        25048.5974336 ,  33672.0351829 ,  23933.5545121 ,  25209.40245737,\n        28754.34257596,  59208.72536125,  24887.80960923,  25696.26337859,\n        41810.32442777,  41037.02992177,  38299.37137455,  26285.26600965,\n        31250.32305262,  24197.36303508,  32803.63113744,  27852.44666876,\n        17479.33573422,  18429.14750728,  20352.44498395,  22794.97163435,\n        38006.3884116 ,  77775.36158719,  19829.40433956,  41558.06590766,\n        20459.18487655,  30441.2074127 ,  23101.65992934,  20562.53350535,\n        36034.68632812,  20620.17497242,  91163.14486388,  30100.59165385,\n        44961.01151304,  23730.04539974,  21273.96228288,  31807.75168101,\n        31038.18264538,  27166.81921453,  51973.91825021,  19580.21059699,\n        19679.54566849,  23266.7361453 ,  24328.19820396,  20371.08881214,\n        21947.37135743,  21712.10193759,  41258.7670487 ,  19287.64074664,\n        27034.31125465,  14079.73086373,  47931.45291734,  25515.26838   ,\n        21846.74110403,  15737.32390047,  30664.38237579,  53272.19162326,\n        22695.38250361,  68874.61987478,  21161.67546265,  43486.45269259,\n        37507.26569047,  26323.59658908,  20272.68818477,  25119.79148737,\n        20909.7137076 ,  28564.41049165,  30201.49339308,  23527.61899136,\n        41552.45343715,  45749.75000603,  42208.51817177,  47875.37951972,\n        33331.24677969,  24572.23979679,  28363.79738888,  20294.66587346,\n        67378.98407711,  57313.11887955,  21487.64070361,  25645.43351726,\n        36147.44057313,  19641.44756858,  27637.50653811,  27682.93910583,\n        21632.83031226,  16560.44999215,  53739.84013286,  77869.37144237,\n        22690.16218631,  30667.85601466,  84113.57399342,  22462.60722329,\n        17521.86608034,  32000.83646994,  26105.12408006,  42560.48468994,\n        30171.31094978,  17935.83207102,  41330.23534025,  50458.56025471,\n        17255.8496297 ,  15108.91768204,  27333.96530465,  27118.66063337,\n        56607.95217669,  75183.08889344,  23475.16902247,  28542.60047429,\n        31892.97116711,  33947.82701065,  19171.66689797,  25359.5138737 ,\n        35663.82827815,  41873.15083935,  32149.991745  ,  23048.70031018,\n        22756.30617516,  27315.00142036,  29468.3737054 ,  72165.53043984,\n        21412.23512074,  51518.98245793,  21175.37641769,  19842.36450256,\n        28970.88614183,  20452.86729063,  20898.18942589,  42189.69953536,\n        30151.36742156,  34659.93492147,  36437.50110957,  21231.5725117 ,\n        21400.211269  ,  28707.11000672,  22211.03942434,  23044.88464183,\n        32480.0229603 ,  20007.03079369,  47291.93380241,  36065.43221208,\n        27871.37406487,  18136.710975  ,  25936.02743328,  21245.68459776,\n        25770.28768846,  24326.6120994 ,  34148.31570434,  20071.04640833,\n        28144.19146524,  27044.13563771,  19777.4848687 ,  20795.37180528,\n        39615.02240019,  13707.35935318,  41803.77276006,  19293.02517525,\n        24139.85687561,  33589.32597861,  22981.34034189,  20953.78172904,\n        20583.3086719 ,  22970.04178226,  27906.3009435 ,  28977.27923985,\n       120630.34730018,  41438.09142275,  36835.37464445,  25099.86843498,\n        43293.38908985,  48737.17081786,  18507.27887583,  25853.41621149,\n        22000.92592141,  30066.21163727,  42896.78885107,  21622.81290114,\n        21892.47398136,  24685.73378114,  20540.0934124 ,  91895.23525664,\n       108126.75098712,  10463.71234917,  15384.04441307,  22272.05076947,\n        18926.8311528 ,  17524.00124806,  18550.05693109,  46182.68098833,\n        33158.65694649,  25508.0079219 ,  18425.98550522,   7190.97598367,\n        51070.26563454,  20163.05740336,  33681.74258868,  25018.69456097,\n        22498.5630608 ,  54177.19999701,  25312.58566264,  21678.17155747,\n        23943.90419428, 131957.22150644,  26717.6084305 ,  15952.07543954,\n        56834.88415175,  16008.32555564,  20103.03814022,  24575.11550632,\n        24645.65772212,  20973.61082445,  20802.7453649 ,  21243.95334912,\n        50364.46992195,  22303.67208594,  26733.95974227,  17527.6272386 ,\n        26079.36966127,  30185.68754691,  19443.37898713,  18604.37371835,\n        33078.30688293,  32084.32593583,  29100.98288675,  16649.44180846,\n       108167.08988953,  36691.49255307,  24359.22184781,  44709.09143025,\n        14481.75677596,  19063.16121972,  19297.3483388 ,  19403.76294759,\n        23644.53215973,  30173.07142119,  84575.43882205,  28645.82534322,\n        22949.31745961,  19496.53177375,  23604.79307821,  39055.66869576,\n        19024.70164147,  38139.77759312,  21154.97195445,  16547.24365081,\n        20584.1699121 ,  22414.30175265,  19125.03944108,  26752.88155199,\n        21494.49742078,  22655.98691941,  20064.49238984,  24406.42766727])"
     },
     "execution_count": 19,
     "metadata": {},
     "output_type": "execute_result"
    }
   ],
   "source": [
    "import math\n",
    "def weighted_avg(image):\n",
    "    r = image[0]\n",
    "    g = image[1]\n",
    "    b = image[2]\n",
    "    return math.sqrt(0.241*(r**2) + 0.691*(g**2) + 0.068*(b**2)) \n",
    "weighted_avgs = []\n",
    "for i in range(len(images)):\n",
    "    weighted_avgs.append(weighted_avg(images[i]))\n",
    "weighted_avgs = np.array(weighted_avgs)\n",
    "weighted_avgs"
   ],
   "metadata": {
    "collapsed": false,
    "ExecuteTime": {
     "end_time": "2023-11-25T02:44:27.393449Z",
     "start_time": "2023-11-25T02:44:27.390780Z"
    }
   },
   "id": "27ce540ee6b8ad09"
  },
  {
   "cell_type": "code",
   "execution_count": 33,
   "outputs": [
    {
     "data": {
      "text/plain": "Text(0.5, 0, 'Weighted Average')"
     },
     "execution_count": 33,
     "metadata": {},
     "output_type": "execute_result"
    },
    {
     "data": {
      "text/plain": "<Figure size 640x480 with 1 Axes>",
      "image/png": "[encoded data removed]"
     },
     "metadata": {},
     "output_type": "display_data"
    }
   ],
   "source": [
    "# plot weighted_avgs vs distance\n",
    "import matplotlib.pyplot as plt\n",
    "plt.scatter(weighted_avgs, list(df[\"Distance (pc)\"]))\n",
    "plt.ylabel(\"Distance\")\n",
    "plt.xlabel(\"Weighted Average\")\n",
    "# plt.xlim(0, 1)\n",
    "# plt.ylim(0, 2000)"
   ],
   "metadata": {
    "collapsed": false,
    "ExecuteTime": {
     "end_time": "2023-11-25T02:58:09.577459Z",
     "start_time": "2023-11-25T02:58:09.516940Z"
    }
   },
   "id": "7240d059aa5fcf11"
  },
  {
   "cell_type": "code",
   "execution_count": 49,
   "outputs": [],
   "source": [
    "plt.show()"
   ],
   "metadata": {
    "collapsed": false,
    "ExecuteTime": {
     "end_time": "2023-11-22T23:20:16.425708Z",
     "start_time": "2023-11-22T23:20:16.421426Z"
    }
   },
   "id": "5962070248299cd8"
  },
  {
   "cell_type": "code",
   "execution_count": 50,
   "outputs": [
    {
     "data": {
      "text/plain": "          Star Name  Distance (pc)  \\\n0         Absolutno     273.845058   \n1            Acamar      49.431537   \n2          Achernar      42.753313   \n3            Achird       5.923041   \n4           Acubens      54.554183   \n..              ...            ...   \n299        Zavijava      11.001766   \n300           Zhang      76.182930   \n301           Zibal      36.503011   \n302  Zubenelhakrabi      50.025013   \n303  Zubeneschamali      56.753689   \n\n                                             Image URL       Spectral Class  \\\n0    https://alasky.u-strasbg.fr/hips-image-service...      ('G', '8', 'V')   \n1    https://alasky.u-strasbg.fr/hips-image-service...      ('A', '2', 'V')   \n2    https://alasky.u-strasbg.fr/hips-image-service...      ('B', '6', 'V')   \n3    https://alasky.u-strasbg.fr/hips-image-service...      ('F', '9', 'V')   \n4    https://alasky.u-strasbg.fr/hips-image-service...      ('A', '7', 'V')   \n..                                                 ...                  ...   \n299  https://alasky.u-strasbg.fr/hips-image-service...      ('F', '9', 'V')   \n300  https://alasky.u-strasbg.fr/hips-image-service...    ('G', '7', 'III')   \n301  https://alasky.u-strasbg.fr/hips-image-service...      ('A', '4', 'V')   \n302  https://alasky.u-strasbg.fr/hips-image-service...  ('G', '8.5', 'III')   \n303  https://alasky.u-strasbg.fr/hips-image-service...      ('B', '8', 'V')   \n\n     Center Pixel       L/L_o  \\\n0             255    0.656000   \n1             255   23.600000   \n2             233   97.521203   \n3             255    1.193670   \n4             255    8.149287   \n..            ...         ...   \n299           255    1.193670   \n300           255   40.426122   \n301           255   15.118020   \n302           255   46.156500   \n303           255  383.686686   \n\n                                         Average Color  \n0    [0.18407557354925777, 0.2252093279957057, 0.26...  \n1    [0.33405011603654416, 0.38383178070734775, 0.4...  \n2    [0.44570507710747476, 0.45847512151200503, 0.4...  \n3    [0.37773370776278403, 0.3622124472940845, 0.33...  \n4    [0.2444099031193941, 0.32214194401701723, 0.39...  \n..                                                 ...  \n299  [0.39950074485646414, 0.3782289096336686, 0.33...  \n300  [0.4033222833279631, 0.3809834322736615, 0.341...  \n301  [0.24679645392315078, 0.29872981468004095, 0.3...  \n302  [0.40048905343022995, 0.34168661906218467, 0.2...  \n303  [0.2506640300471481, 0.3508702375455587, 0.452...  \n\n[304 rows x 7 columns]",
      "text/html": "<div>\n<style scoped>\n    .dataframe tbody tr th:only-of-type {\n        vertical-align: middle;\n    }\n\n    .dataframe tbody tr th {\n        vertical-align: top;\n    }\n\n    .dataframe thead th {\n        text-align: right;\n    }\n</style>\n<table border=\"1\" class=\"dataframe\">\n  <thead>\n    <tr style=\"text-align: right;\">\n      <th></th>\n      <th>Star Name</th>\n      <th>Distance (pc)</th>\n      <th>Image URL</th>\n      <th>Spectral Class</th>\n      <th>Center Pixel</th>\n      <th>L/L_o</th>\n      <th>Average Color</th>\n    </tr>\n  </thead>\n  <tbody>\n    <tr>\n      <th>0</th>\n      <td>Absolutno</td>\n      <td>273.845058</td>\n      <td>https://alasky.u-strasbg.fr/hips-image-service...</td>\n      <td>('G', '8', 'V')</td>\n      <td>255</td>\n      <td>0.656000</td>\n      <td>[0.18407557354925777, 0.2252093279957057, 0.26...</td>\n    </tr>\n    <tr>\n      <th>1</th>\n      <td>Acamar</td>\n      <td>49.431537</td>\n      <td>https://alasky.u-strasbg.fr/hips-image-service...</td>\n      <td>('A', '2', 'V')</td>\n      <td>255</td>\n      <td>23.600000</td>\n      <td>[0.33405011603654416, 0.38383178070734775, 0.4...</td>\n    </tr>\n    <tr>\n      <th>2</th>\n      <td>Achernar</td>\n      <td>42.753313</td>\n      <td>https://alasky.u-strasbg.fr/hips-image-service...</td>\n      <td>('B', '6', 'V')</td>\n      <td>233</td>\n      <td>97.521203</td>\n      <td>[0.44570507710747476, 0.45847512151200503, 0.4...</td>\n    </tr>\n    <tr>\n      <th>3</th>\n      <td>Achird</td>\n      <td>5.923041</td>\n      <td>https://alasky.u-strasbg.fr/hips-image-service...</td>\n      <td>('F', '9', 'V')</td>\n      <td>255</td>\n      <td>1.193670</td>\n      <td>[0.37773370776278403, 0.3622124472940845, 0.33...</td>\n    </tr>\n    <tr>\n      <th>4</th>\n      <td>Acubens</td>\n      <td>54.554183</td>\n      <td>https://alasky.u-strasbg.fr/hips-image-service...</td>\n      <td>('A', '7', 'V')</td>\n      <td>255</td>\n      <td>8.149287</td>\n      <td>[0.2444099031193941, 0.32214194401701723, 0.39...</td>\n    </tr>\n    <tr>\n      <th>...</th>\n      <td>...</td>\n      <td>...</td>\n      <td>...</td>\n      <td>...</td>\n      <td>...</td>\n      <td>...</td>\n      <td>...</td>\n    </tr>\n    <tr>\n      <th>299</th>\n      <td>Zavijava</td>\n      <td>11.001766</td>\n      <td>https://alasky.u-strasbg.fr/hips-image-service...</td>\n      <td>('F', '9', 'V')</td>\n      <td>255</td>\n      <td>1.193670</td>\n      <td>[0.39950074485646414, 0.3782289096336686, 0.33...</td>\n    </tr>\n    <tr>\n      <th>300</th>\n      <td>Zhang</td>\n      <td>76.182930</td>\n      <td>https://alasky.u-strasbg.fr/hips-image-service...</td>\n      <td>('G', '7', 'III')</td>\n      <td>255</td>\n      <td>40.426122</td>\n      <td>[0.4033222833279631, 0.3809834322736615, 0.341...</td>\n    </tr>\n    <tr>\n      <th>301</th>\n      <td>Zibal</td>\n      <td>36.503011</td>\n      <td>https://alasky.u-strasbg.fr/hips-image-service...</td>\n      <td>('A', '4', 'V')</td>\n      <td>255</td>\n      <td>15.118020</td>\n      <td>[0.24679645392315078, 0.29872981468004095, 0.3...</td>\n    </tr>\n    <tr>\n      <th>302</th>\n      <td>Zubenelhakrabi</td>\n      <td>50.025013</td>\n      <td>https://alasky.u-strasbg.fr/hips-image-service...</td>\n      <td>('G', '8.5', 'III')</td>\n      <td>255</td>\n      <td>46.156500</td>\n      <td>[0.40048905343022995, 0.34168661906218467, 0.2...</td>\n    </tr>\n    <tr>\n      <th>303</th>\n      <td>Zubeneschamali</td>\n      <td>56.753689</td>\n      <td>https://alasky.u-strasbg.fr/hips-image-service...</td>\n      <td>('B', '8', 'V')</td>\n      <td>255</td>\n      <td>383.686686</td>\n      <td>[0.2506640300471481, 0.3508702375455587, 0.452...</td>\n    </tr>\n  </tbody>\n</table>\n<p>304 rows × 7 columns</p>\n</div>"
     },
     "execution_count": 50,
     "metadata": {},
     "output_type": "execute_result"
    }
   ],
   "source": [
    "df"
   ],
   "metadata": {
    "collapsed": false,
    "ExecuteTime": {
     "end_time": "2023-11-22T23:20:17.215239Z",
     "start_time": "2023-11-22T23:20:17.211896Z"
    }
   },
   "id": "4af29e491a05efb0"
  },
  {
   "cell_type": "code",
   "execution_count": 10,
   "outputs": [
    {
     "data": {
      "text/plain": "(array([0.0003566]), array([[2.06643106e-08]]))"
     },
     "execution_count": 10,
     "metadata": {},
     "output_type": "execute_result"
    }
   ],
   "source": [
    "# Fit a graph with the type a/x^2 to the data\n",
    "from scipy.optimize import curve_fit\n",
    "\n",
    "func = lambda x, a: a / x\n",
    "popt, pcov = curve_fit(func, weighted_avgs, list(df[\"Distance (pc)\"]))\n",
    "popt, pcov"
   ],
   "metadata": {
    "collapsed": false,
    "ExecuteTime": {
     "end_time": "2023-11-23T15:07:59.057347Z",
     "start_time": "2023-11-23T15:07:59.052619Z"
    }
   },
   "id": "385f5e51591d6dca"
  },
  {
   "cell_type": "code",
   "execution_count": 11,
   "outputs": [
    {
     "data": {
      "text/plain": "<Figure size 640x480 with 1 Axes>",
      "image/png": "[encoded data removed]"
     },
     "metadata": {},
     "output_type": "display_data"
    }
   ],
   "source": [
    "plt.scatter(weighted_avgs, list(df[\"Distance (pc)\"]))\n",
    "plt.plot(weighted_avgs, func(weighted_avgs, *popt), 'r-')\n",
    "plt.ylabel(\"Distance\")\n",
    "plt.xlabel(\"Weighted Average\")\n",
    "plt.xlim(0, 5)\n",
    "plt.ylim(0, 1000)\n",
    "plt.show()"
   ],
   "metadata": {
    "collapsed": false,
    "ExecuteTime": {
     "end_time": "2023-11-23T15:08:04.007226Z",
     "start_time": "2023-11-23T15:08:03.970223Z"
    }
   },
   "id": "c66c52e893b34e6f"
  },
  {
   "cell_type": "code",
   "execution_count": 12,
   "outputs": [
    {
     "data": {
      "text/plain": "-0.024641122478807675"
     },
     "execution_count": 12,
     "metadata": {},
     "output_type": "execute_result"
    }
   ],
   "source": [
    "# calculate r^2 value for the fit\n",
    "r2_score(list(df[\"Distance (pc)\"]), func(weighted_avgs, *popt))"
   ],
   "metadata": {
    "collapsed": false,
    "ExecuteTime": {
     "end_time": "2023-11-23T15:08:09.480376Z",
     "start_time": "2023-11-23T15:08:09.474979Z"
    }
   },
   "id": "466a4776266a855b"
  },
  {
   "cell_type": "code",
   "execution_count": 18,
   "outputs": [
    {
     "name": "stdout",
     "output_type": "stream",
     "text": [
      "[[ 1.          0.99178192  0.97516551 -0.58383404]\n",
      " [ 0.99178192  1.          0.99382833 -0.58324289]\n",
      " [ 0.97516551  0.99382833  1.         -0.57847755]\n",
      " [-0.58383404 -0.58324289 -0.57847755  1.        ]]\n"
     ]
    }
   ],
   "source": [
    "import scipy.stats\n",
    "spearman_coefficient = scipy.stats.spearmanr(images, df[\"Distance (pc)\"], axis=0)\n",
    "print(spearman_coefficient.statistic)"
   ],
   "metadata": {
    "collapsed": false,
    "ExecuteTime": {
     "end_time": "2023-11-23T15:25:56.019930Z",
     "start_time": "2023-11-23T15:25:56.015704Z"
    }
   },
   "id": "6c4da1be36c9f520"
  }
 ],
 "metadata": {
  "kernelspec": {
   "display_name": "Python 3",
   "language": "python",
   "name": "python3"
  },
  "language_info": {
   "codemirror_mode": {
    "name": "ipython",
    "version": 2
   },
   "file_extension": ".py",
   "mimetype": "text/x-python",
   "name": "python",
   "nbconvert_exporter": "python",
   "pygments_lexer": "ipython2",
   "version": "2.7.6"
  }
 },
 "nbformat": 4,
 "nbformat_minor": 5
}
