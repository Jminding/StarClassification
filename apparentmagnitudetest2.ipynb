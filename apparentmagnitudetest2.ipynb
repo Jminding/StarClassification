{
 "cells": [
  {
   "cell_type": "code",
   "execution_count": 1,
   "metadata": {},
   "outputs": [
    {
     "name": "stdout",
     "output_type": "stream",
     "text": [
      "Closest star at position 250, 250\n",
      "Closest star at position 250, 250\n",
      "0.09470562637471847\n"
     ]
    }
   ],
   "source": [
    "import cv2\n",
    "import numpy as np\n",
    "from astropy.stats import sigma_clipped_stats\n",
    "from photutils import detection\n",
    "from photutils.aperture import CircularAperture, aperture_photometry\n",
    "import glob\n",
    "\n",
    "def detect_star(image_data):\n",
    "    # Smooth the image to enhance star-like features\n",
    "    smoothed_image = cv2.GaussianBlur(image_data, (5, 5), 0)\n",
    "\n",
    "    # Find local peaks (potential stars) in the image\n",
    "    peaks = detection.find_peaks(smoothed_image, threshold=3*np.std(smoothed_image), box_size=11)\n",
    "\n",
    "    # Get the x and y coordinates of the peaks\n",
    "    x_peak = peaks['x_peak']\n",
    "    y_peak = peaks['y_peak']\n",
    "\n",
    "    return x_peak, y_peak\n",
    "\n",
    "def calculate_apparent_magnitude(image_file):\n",
    "    # Load the image\n",
    "    image_data = cv2.imread(image_file, cv2.IMREAD_GRAYSCALE)\n",
    "\n",
    "    # Detect stars and their positions\n",
    "    star_positions = detect_star(image_data)\n",
    "\n",
    "    if len(star_positions[0]) == 0 or len(star_positions[1]) == 0:\n",
    "        print(\"No stars were detected in the image.\")\n",
    "        return\n",
    "\n",
    "    # Calculate background statistics\n",
    "    mean, median, std = sigma_clipped_stats(image_data)\n",
    "\n",
    "    # Calculate the center of the image\n",
    "    image_center = np.array(image_data.shape[::-1]) / 2\n",
    "\n",
    "    # Calculate distances of each detected star from the center\n",
    "    distances_from_center = np.sqrt((star_positions[0] - image_center[0])**2 + (star_positions[1] - image_center[1])**2)\n",
    "\n",
    "    # Find the index of the star closest to the center\n",
    "    closest_star_index = np.argmin(distances_from_center)\n",
    "\n",
    "    # Get the coordinates of the closest star\n",
    "    closest_star_x = star_positions[0][closest_star_index]\n",
    "    closest_star_y = star_positions[1][closest_star_index]\n",
    "\n",
    "    print(\"Closest star at position {}, {}\".format(closest_star_x, closest_star_y))\n",
    "\n",
    "    # Perform photometry for the closest star\n",
    "    # Define the aperture radius based on the star's size (e.g., FWHM)\n",
    "    # Estimate the size of the star\n",
    "    star_size_estimate = 100  # Example initial estimate for star size\n",
    "    aperture_radius = star_size_estimate / 2.0  # Using half of the estimated size as the aperture radius\n",
    "\n",
    "    # Define the aperture\n",
    "    position = (closest_star_x, closest_star_y)\n",
    "    aperture = CircularAperture(position, r=aperture_radius)\n",
    "\n",
    "    # Perform aperture photometry\n",
    "    phot_table = aperture_photometry(image_data - median, aperture)\n",
    "\n",
    "    # Get the total flux in the aperture\n",
    "    flux = phot_table['aperture_sum'][0]\n",
    "\n",
    "    # Perform zero-point calibration (replace this with your own calibration)\n",
    "    zero_point_calibration = 25.0  # Example value\n",
    "    magnitude = -2.5 * np.log10(flux)\n",
    "\n",
    "    # print(\"Closest star apparent magnitude:\", magnitude)\n",
    "    # print(\"Closest star flux:\", flux)\n",
    "    return flux\n",
    "\n",
    "# Example usage\n",
    "if __name__ == \"__main__\":\n",
    "    # Example JPG image file\n",
    "    image_file = \"/Users/jminding/Documents/Research/Star Images/Alnitak.jpg\"\n",
    "    image_file_2 = \"/Users/jminding/Documents/Research/Star Images/Vega.jpg\"\n",
    "\n",
    "    # print(\"Calculating apparent magnitude for image file:\", image_file)\n",
    "    # print(np.log10(calculate_apparent_magnitude(image_file)))\n",
    "    print(-2.5 * np.log10(calculate_apparent_magnitude(image_file) / calculate_apparent_magnitude(image_file_2)))"
   ]
  },
  {
   "cell_type": "code",
   "execution_count": 12,
   "metadata": {},
   "outputs": [],
   "source": [
    "absolute_magnitudes = {\n",
    "    'O': {\n",
    "        'I': (-9.5, -8.0),\n",
    "        'II': (-1.0, 2.0),\n",
    "        'III': (-1.0, 2.0),\n",
    "        'IV': (2.0, 4.0),\n",
    "        'V': (-9.0, -4.0)\n",
    "    },\n",
    "    'B': {\n",
    "        'I': (-9.0, -7.0),\n",
    "        'II': (-1.0, 2.0),\n",
    "        'III': (-1.0, 2.0),\n",
    "        'IV': (2.0, 4.0),\n",
    "        'V': (-3.0, 2.0)\n",
    "    },\n",
    "    'A': {\n",
    "        'I': (-8.5, -6.5),\n",
    "        'II': (-1.0, 2.0),\n",
    "        'III': (-1.0, 2.0),\n",
    "        'IV': (2.0, 4.0),\n",
    "        'V': (2.0, 5.0)\n",
    "    },\n",
    "    'F': {\n",
    "        'I': (-9.0, -5.0),\n",
    "        'II': (-1.0, 2.0),\n",
    "        'III': (-1.0, 2.0),\n",
    "        'IV': (2.0, 4.0),\n",
    "        'V': (4.0, 6.0)\n",
    "    },\n",
    "    'G': {\n",
    "        'I': (-10.0, -4.0),\n",
    "        'II': (-1.0, 2.0),\n",
    "        'III': (-1.0, 2.0),\n",
    "        'IV': (2.0, 4.0),\n",
    "        'V': (5.0, 7.0)\n",
    "    },\n",
    "    'K': {\n",
    "        'I': (-9.5, -3.0),\n",
    "        'II': (-1.0, 2.0),\n",
    "        'III': (-1.0, 2.0),\n",
    "        'IV': (2.0, 4.0),\n",
    "        'V': (6.0, 10.0)\n",
    "    },\n",
    "    'M': {\n",
    "        'I': (-6.5, -4.0),\n",
    "        'II': (-1.0, 2.0),\n",
    "        'III': (-1.0, 2.0),\n",
    "        'IV': (2.0, 4.0),\n",
    "        'V': (10.0, 15.0)\n",
    "    }\n",
    "}\n",
    "condensed_absolute_magnitudes = {}\n",
    "\n",
    "for spectral_type, luminosity_classes in absolute_magnitudes.items():\n",
    "    condensed_absolute_magnitudes[spectral_type] = {}\n",
    "    for luminosity_class, magnitude_range in luminosity_classes.items():\n",
    "        condensed_absolute_magnitudes[spectral_type][luminosity_class] = sum(magnitude_range) / 2\n",
    "\n",
    "# print(condensed_absolute_magnitudes)\n"
   ]
  },
  {
   "cell_type": "code",
   "execution_count": 13,
   "metadata": {},
   "outputs": [
    {
     "name": "stdout",
     "output_type": "stream",
     "text": [
      "Calculating apparent magnitude for image file: /Users/jminding/Documents/Research/Star Images/Alnitak.jpg\n",
      "Closest star at position 250, 250\n",
      "Apparent magnitude: 1.0324189526184537\n",
      "Absolute magnitude: -8.75\n"
     ]
    }
   ],
   "source": [
    "from mk_ai.MKAI import MKAI\n",
    "\n",
    "image_file = \"/Users/jminding/Documents/Research/Star Images/Alnitak.jpg\"\n",
    "image_file_2 = \"/Users/jminding/Documents/Research/Star Images/Vega.jpg\"\n",
    "print(\"Calculating apparent magnitude for image file:\", image_file)\n",
    "apparent_magnitude = calculate_apparent_magnitude(image_file)\n",
    "print(\"Apparent magnitude:\", apparent_magnitude)\n",
    "\n",
    "test = MKAI()\n",
    "spectral_class, _ = test.get_spectral_class(image_file)\n",
    "luminosity_class, _ = test.get_luminosity_class(image_file)\n",
    "absolute_magnitude = condensed_absolute_magnitudes[spectral_class][luminosity_class]\n",
    "print(\"Absolute magnitude:\", absolute_magnitude)"
   ]
  },
  {
   "cell_type": "code",
   "execution_count": 23,
   "metadata": {},
   "outputs": [],
   "source": [
    "import os\n",
    "import pandas as pd\n",
    "import matplotlib.pyplot as plt\n",
    "import numpy as np\n",
    "\n",
    "distances = np.load('distances.npy').tolist()\n",
    "\n",
    "# for file in sorted(os.listdir('/Users/jminding/Documents/Research/Star Images')):\n",
    "#     if file.endswith('.jpg'):\n",
    "#         print(\"Calculating apparent magnitude for image file:\", file)\n",
    "#         apparent_magnitude = calculate_apparent_magnitude('/Users/jminding/Documents/Research/Star Images/' + file)\n",
    "#         print(\"Apparent magnitude:\", apparent_magnitude)\n",
    "\n",
    "#         test = MKAI()\n",
    "#         spectral_class, _ = test.get_spectral_class('/Users/jminding/Documents/Research/Star Images/' + file)\n",
    "#         luminosity_class, _ = test.get_luminosity_class('/Users/jminding/Documents/Research/Star Images/' + file)\n",
    "#         absolute_magnitude = condensed_absolute_magnitudes[spectral_class][luminosity_class]\n",
    "#         print(\"Absolute magnitude:\", absolute_magnitude)\n",
    "\n",
    "#         distances.append(10 ** ((apparent_magnitude - absolute_magnitude + 5) / 5))\n",
    "\n",
    "# distances_npy = np.array(distances)\n",
    "# np.save('distances.npy', distances_npy)\n",
    "# np.savetxt('distances.txt', distances_npy)\n",
    "\n",
    "# df = pd.read_csv('/Users/jminding/Documents/Research/star_data_2.csv')\n",
    "# distances_real = df['Distance (pc)']\n",
    "# plt.scatter(distances_real, distances)"
   ]
  },
  {
   "cell_type": "code",
   "execution_count": 24,
   "metadata": {},
   "outputs": [],
   "source": [
    "df = pd.read_csv('/Users/jminding/Documents/Research/star_data_3.csv')\n",
    "distances_real = df['Distance (pc)']\n",
    "# print(distances_npy.shape)\n",
    "# plt.scatter(distances_real, distances)"
   ]
  },
  {
   "cell_type": "code",
   "execution_count": 25,
   "metadata": {},
   "outputs": [
    {
     "name": "stdout",
     "output_type": "stream",
     "text": [
      "[0, 19.03492290563518, 1.7554522770802072, 4.379217430965822, 3.8846883843702122, 0, 13.944053083958416, 13.379316121656496, 13.720062774212138, 13.465137436134144, 4.317124071914733, 0.8340757883352793, 13.690174301709707, 21.897725255291355, 13.471825038475238, 1.7433978606803584, 3.4651364323268012, 12.37517771311764, 13.502803267762705, 4.399380456489829, 21.783366230815744, 21.997280810892512, 4.336879859896369, 13.97555725399699, 13.809097812039044, 3.5090666949709077, 13.816530577235497, 22.049133206620233, 4.409496755960368, 4.319281123375031, 13.848301450963177, 13.753207329465218, 21.647685574828284, 4.491269101736349, 3.5264107531973474, 13.848301450963177, 13.682265951812056, 552.5785404607379, 308.6039611640403, 21.636371044583214, 12.29996498378928, 675.1906722944028, 904.6566719751067, 12.866970617636019, 13.095327496982144, 4.329213235810784, 4.33891825129686, 13.880145381266955, 1.7388016217477238, 0.4357994691292708, 3.427931018295586, 0.43093717972637363, 13.812108745373449, 4.309371797263737, 4.299485205200348, 4.326318497626545, 3.299543553317879, 14.040466774697963, 13.533852730954044, 675.1906722944028, 4.409496755960368, 13.944053083958416, 4.355469230262471, 4.288795717421171, 0, 0.7315449636905245, 0.2604256012608815, 0, 13.562004196648473, 4.133315591256056, 13.732082632633348, 13.47086279601232, 163.69666936816205, 1.6024240966769645, 10.53642467756735, 1.7178844674853295, 21.688259801626828, 437.9217430965821, 3.407367310915475, 13.753207329465218, 4.422803889467563, 13.940622449539605, 690.8782113038594, 18.882848231452023, 0.6998169649528996, 13.848301450963177, 0, 13.434459390631536, 13.10558341829462, 13.165924841650673, 1.0319660518869733, 4.346941255383221, 677.3754731413818, 13.721654621361463, 429.9176756642729, 13.624573383861218, 0.03363711530547567, 4.4196363176870355, 13.941418305923513, 13.784635621952944, 11.616688901141638, 1.6527758209366803, 0.4349146029363188, 2.683893099547518, 179.26325247933968, 21.939856718279636, 0.8857443161571851, 1.7433978606803584, 11.58544032872219, 13.784832592476974, 13.944053083958416, 1.667034334499066, 1.0179801912657644, 13.778666941921946, 10.103655810671633, 12.37424479470412, 13.721654621361463, 3.3995501040932328, 13.768044079768732, 13.944053083958416, 2.4919980524398984, 3.6987382828277333, 4.318316950114462, 1.0725657883511208, 13.716017496770093, 0.6867919287916583, 13.880145381266955, 0.6655793127191079, 4.163929043621523, 3.518053302709128, 0.3801793440520765, 1.0421264796258403, 1.0137779884097171, 4.229864768771189, 3.502587774184445, 3.4699493401434434, 4.399380456489829, 13.848301450963177, 1.7474067739874408, 0, 540.0313255284467, 3.4943508260179947, 1.7634332442691991, 0.9702193823773672, 13.52326166268693, 1.050162163571496, 2.7957368689036373, 1.0196348657003007, 0, 4.230911247984498, 13.784832592476974, 4.279780014710477, 0.36608835476242485, 13.880145381266955, 3.894494403737486, 4.308309670871948, 13.802610304873525, 13.564973591850382, 13.658766204435842, 3.8019134633666263, 13.880145381266955, 0.4369170598542514, 13.690174301709707, 13.880145381266955, 13.590442477001714, 21.44481630755459, 4.35914681563509, 13.73065040406855, 0.8653860071280536, 1.005036679971341, 3.268088756818571, 12.817203380191444, 1.2398111964013379, 4.38785087772261, 21.736962017521037, 1.4522710732865667, 22.049133206620233, 12.426312351810711, 12.569883406367815, 0.9686683293028874, 0.26158722325893324, 13.912062536139151, 0, 13.469279489595891, 0.6792910534429355, 21.79736467097571, 13.656559487638138, 13.784832592476974, 1.7166596056915104, 0.4056533261323648, 0.2739500084609099, 11.698850677109409, 0, 13.880145381266955, 13.816530577235497, 11.497800670686788, 4.317260580116893, 3.462544427933925, 3.911853620975071, 22.150652997001885, 0.6712912045813613, 0.3898090829990171, 1.5400033540835911, 4.33661878313004, 1.028557056336683, 4.417114668503738, 0.9776927011722526, 10.060094803364393, 13.912062536139151, 1.3370979089539552, 12.59692638336354, 4.389287365906981, 20.34421591190376, 4.328136823541092, 22.099834808082086, 0.3389133143925455, 13.519835237684068, 13.590836212421653, 3.533459032737365, 20.408803387429963, 12.80799934667051, 12.213062934049466, 3.473011347874696, 0.43110459701446213, 3.3904067300733693, 13.880145381266955, 13.784832592476974, 0.33203091387218703, 1.1926696265507108, 14.040466774697963, 13.690174301709707, 3.4301842686742616, 13.459637888385576, 13.502803267762705, 0.6579745765968777, 4.210292361667357, 0, 0.6445402863784521, 1.0206526341612705, 0, 3.871822211739837, 0.9148481111421495, 0.3602121254477262, 13.782436915747208, 0.3673626886169984, 4.249622866269887, 4.329213235810784, 0.3867130576271383, 12.423170090469636, 0.6742942815683342, 4.449355067142911, 0, 4.375748106888488, 0.681526350978915, 0, 14.040466774697963, 0, 3.4865348850584823, 13.649111283000448, 438.92873659069784, 3.2646270098203463, 4.339168186967756, 13.976117193490545, 13.015589425436081, 13.68878996217091, 4.399380456489829, 4.26782966818051, 3.3661047493468876, 3.8455415132701485, 3.4623347934464532, 13.335246657030678, 3.985646280112957, 4.377691544764272, 13.879345886225853, 13.721654621361463, 0.053843511596359826, 14.040466774697963, 309.3135906493294, 435.9146815635092, 13.55138227891536, 13.912062536139151, 3.4945521118840697, 0.7312801411072454, 0, 10.05946248773438, 0.6971038355501017, 0.65144809449314, 13.944053083958416, 4.124131325199462, 0.7524216972252964, 686.0045831755609, 4.399380456489829, 13.848301450963177, 13.644695189380563, 0.27047335980004733, 13.686596827295883, 0, 966.9665954318893, 0, 0.9696919536853577, 0.3162579333706652, 13.912062536139151, 13.880145381266955, 1.005420744376192, 0.36519222896093834, 13.911261202672994, 1.0143570192420388, 3.5155410111617016, 21.25354708301754, 1.751424905721519, 1.5370509059817938, 1.0954395817487943, 0.959308398087518, 4.309371797263737, 21.499034301638446, 2.713249143756376, 4.260165136086727, 0, 22.150652997001885, 3.518714574875267, 13.848301450963177, 0.35908504565870086, 21.293712131800106, 0.27962047906420384, 21.28628260023584, 0.6628285441661546, 12.752405171514209, 0, 4.301150701095266, 4.389287365906981, 662.7529341605128, 13.596166014629517, 1.7675900416118955, 13.721654621361463, 13.848301450963177, 4.087627588834706, 13.627430163846773, 0.03401436261094823, 4.419381747059538, 1.4838387839181317, 13.784832592476974, 310.0248519153788, 4.339168186967756, 13.944053083958416, 4.329213235810784, 4.192218308075522, 611.0803376735932, 0.8945836318191995, 0.8791988200712708, 4.369170598542513, 4.409496755960368, 22.336964446859486, 4.399380456489829, 308.460607956897, 21.897725255291355, 13.912062536139151, 441.9636317687034, 439.9380456489831, 414.4349366714622, 0.3672904373734993, 689.2931934956997, 3.4935185550671117, 1.4922208438299367, 1.119962314861512, 12.98572896568286, 4.429799195160983, 13.912062536139151, 13.848301450963177, 13.721654621361463, 13.721654621361463, 21.891795916011183, 1.1076155071082359, 13.211185776877777, 3.6640374563269758, 0.03284841243124478, 4.144349366714623, 689.2327224303361, 1.751424905721519, 0.9268920371499134, 2.5687727516328653, 13.564973591850382, 1.759488909309863, 3.088011106612709, 19.929722280868575, 1.1326274993681547, 1.5297077175364269, 4.3887205035795525, 13.848301450963177, 309.9162901714916, 689.253490273945, 13.816530577235497, 1.7432974411309956, 0.6758414892315928, 13.816530577235497, 0, 3.4862323636357697, 0.6865997194301716, 13.970642264807008, 4.377176832505768, 3.524328664499454, 13.627430163846773, 14.00825503388944, 3.966898406254121, 1.711141174623044, 13.596166014629517, 4.307784829667677, 2.63261676216352, 13.944053083958416, 3.5024358137340696, 13.442489950901935, 4.429799195160983, 13.3179966938137, 13.17375021192389, 1.1252005471755464, 1.7635348237056983, 0.6830980693712826, 0.3561401584870131, 13.219449029512369, 13.721654621361463, 0.6830632558431219, 1.3130172635879644, 0, 13.53271598452853, 13.912062536139151, 0.364174356943037, 14.00825503388944, 308.4730988586293, 1.2144621743858326, 3.1622776601683795, 13.555951802069677, 13.944053083958416, 4.409296201876288, 13.848301450963177, 422.0961519699782, 21.99350765882976, 21.34431820606813, 0.41305164323757665, 3.4617397183656813, 14.00825503388944, 13.940606410900372, 3.469476125267665, 3.5106419143516665, 13.944053083958416, 1.7076306314835126, 13.784832592476974, 3.452370955237379, 4.439985441996375, 21.879328624938655, 13.811505912464265, 21.94807869678091]\n"
     ]
    }
   ],
   "source": [
    "stars = sorted(os.listdir('/Users/jminding/Documents/Research/Star Images'))\n",
    "stars = [star.replace(\".jpg\", \"\").replace(\".jpeg\", \"\") for star in stars]\n",
    "\n",
    "# Find stars that aren't in the star_data_3.csv file and find their indices\n",
    "for star in stars:\n",
    "    if star not in df['Star Name'].to_list():\n",
    "        distances[stars.index(star)] = 0\n",
    "\n",
    "print(distances)"
   ]
  },
  {
   "cell_type": "code",
   "execution_count": 26,
   "metadata": {},
   "outputs": [
    {
     "name": "stdout",
     "output_type": "stream",
     "text": [
      "429\n"
     ]
    }
   ],
   "source": [
    "while 0 in distances:\n",
    "    distances.remove(0)\n",
    "print(len(distances))"
   ]
  },
  {
   "cell_type": "code",
   "execution_count": 27,
   "metadata": {},
   "outputs": [],
   "source": [
    "distances.append(1)\n",
    "distances.append(1)"
   ]
  },
  {
   "cell_type": "code",
   "execution_count": 28,
   "metadata": {},
   "outputs": [
    {
     "name": "stdout",
     "output_type": "stream",
     "text": [
      "(431,)\n",
      "431\n"
     ]
    }
   ],
   "source": [
    "print(distances_real.shape)\n",
    "print(len(distances))"
   ]
  },
  {
   "cell_type": "code",
   "execution_count": 29,
   "metadata": {},
   "outputs": [
    {
     "data": {
      "text/plain": [
       "Text(0.5, 1.0, 'Real vs. Calculated Distances of Stars')"
      ]
     },
     "execution_count": 29,
     "metadata": {},
     "output_type": "execute_result"
    },
    {
     "data": {
      "image/png": "[encoded data removed]",
      "text/plain": [
       "<Figure size 640x480 with 1 Axes>"
      ]
     },
     "metadata": {},
     "output_type": "display_data"
    }
   ],
   "source": [
    "plt.scatter(distances_real, distances)\n",
    "plt.xlabel('Real Distance (pc)')\n",
    "plt.ylabel('Calculated Distance (pc)')\n",
    "plt.title('Real vs. Calculated Distances of Stars')\n",
    "# plt.xlim(0, 1000)"
   ]
  },
  {
   "cell_type": "code",
   "execution_count": 30,
   "metadata": {},
   "outputs": [
    {
     "name": "stdout",
     "output_type": "stream",
     "text": [
      "0.051226611367907925\n",
      "437.7294124903429\n",
      "2.324129690661887\n"
     ]
    }
   ],
   "source": [
    "from sklearn.metrics import root_mean_squared_error\n",
    "RMSE = root_mean_squared_error(distances_real, distances)\n",
    "print(RMSE / (max(distances_real) - min(distances_real)))\n",
    "\n",
    "RMSPE = (np.sqrt(np.mean(np.square((distances_real - distances) / distances_real), axis=0))) * 100\n",
    "print(RMSPE)\n",
    "\n",
    "print(np.mean(np.log(distances_real) - np.log(np.array(distances))))\n",
    "\n",
    "# RMSPE = (np.sqrt(np.mean(np.square((np.log(distances_real) - np.log(np.array(distances))) / np.log(distances_real))))) * 100\n",
    "# print(RMSPE)"
   ]
  }
 ],
 "metadata": {
  "kernelspec": {
   "display_name": "Python 3",
   "language": "python",
   "name": "python3"
  },
  "language_info": {
   "codemirror_mode": {
    "name": "ipython",
    "version": 3
   },
   "file_extension": ".py",
   "mimetype": "text/x-python",
   "name": "python",
   "nbconvert_exporter": "python",
   "pygments_lexer": "ipython3",
   "version": "3.11.6"
  }
 },
 "nbformat": 4,
 "nbformat_minor": 2
}
