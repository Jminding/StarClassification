{
 "cells": [
  {
   "cell_type": "code",
   "execution_count": 21,
   "metadata": {},
   "outputs": [],
   "source": [
    "import matplotlib.pyplot as plt\n",
    "vega_path = './Star Images/Vega.jpg'\n",
    "other_path = './Star Images/Alnitak.jpg'"
   ]
  },
  {
   "cell_type": "code",
   "execution_count": 19,
   "metadata": {},
   "outputs": [
    {
     "name": "stdout",
     "output_type": "stream",
     "text": [
      "Luminosity of Star: 71.76946533333333\n",
      "Luminosity of Vega: 88.35669466666667\n",
      "Luminosity Ratio (Star / Vega): -0.8122696939274369\n"
     ]
    }
   ],
   "source": [
    "from PIL import Image\n",
    "import numpy as np\n",
    "from skimage import segmentation, color, filters\n",
    "\n",
    "def calculate_luminosity(image_path):\n",
    "    # Load the image\n",
    "    img = Image.open(image_path)\n",
    "    \n",
    "    # Convert the image to a NumPy array for easier manipulation\n",
    "    img_array = np.array(img)\n",
    "    \n",
    "    # Convert the image to grayscale if it is color\n",
    "    if img_array.ndim == 3:\n",
    "        gray_img = color.rgb2gray(img_array)\n",
    "    else:\n",
    "        gray_img = img_array\n",
    "    \n",
    "    # Apply Gaussian blur to the grayscale image\n",
    "    blurred_img = filters.gaussian(gray_img, sigma=2)\n",
    "    \n",
    "    # Use adaptive thresholding to separate star and background\n",
    "    threshold = filters.threshold_local(blurred_img, block_size=51, offset=0.1)\n",
    "    star_mask = (blurred_img > threshold).astype(np.uint8)\n",
    "    \n",
    "    # Invert the mask to get the background\n",
    "    background_mask = 1 - star_mask\n",
    "    \n",
    "    # Apply the masks to the original image\n",
    "    star_roi = img_array * np.expand_dims(star_mask, axis=-1)\n",
    "    background_roi = img_array * np.expand_dims(background_mask, axis=-1)\n",
    "    \n",
    "    # Calculate average pixel brightness for the star and background\n",
    "    star_brightness = np.mean(star_roi)\n",
    "    background_brightness = np.mean(background_roi)\n",
    "    \n",
    "    # Calculate luminosity by subtracting background brightness from star brightness\n",
    "    luminosity = star_brightness - background_brightness\n",
    "    \n",
    "    return luminosity\n",
    "\n",
    "# Replace 'your_star_image.jpg' and 'your_vega_image.jpg' with your actual file paths\n",
    "star_luminosity = calculate_luminosity(other_path)\n",
    "vega_luminosity = calculate_luminosity(vega_path)\n",
    "\n",
    "# Calculate the ratio of luminosities\n",
    "luminosity_ratio = - star_luminosity / vega_luminosity\n",
    "\n",
    "print(f\"Luminosity of Star: {star_luminosity}\")\n",
    "print(f\"Luminosity of Vega: {vega_luminosity}\")\n",
    "print(f\"Luminosity Ratio (Star / Vega): {luminosity_ratio}\")\n"
   ]
  },
  {
   "cell_type": "code",
   "execution_count": 70,
   "metadata": {},
   "outputs": [
    {
     "ename": "error",
     "evalue": "OpenCV(4.9.0) /Users/xperience/GHA-OpenCV-Python2/_work/opencv-python/opencv-python/opencv/modules/core/src/arithm.cpp:230: error: (-215:Assertion failed) (mtype == CV_8U || mtype == CV_8S) && _mask.sameSize(*psrc1) in function 'binary_op'\n",
     "output_type": "error",
     "traceback": [
      "\u001b[0;31m---------------------------------------------------------------------------\u001b[0m",
      "\u001b[0;31merror\u001b[0m                                     Traceback (most recent call last)",
      "Cell \u001b[0;32mIn[70], line 36\u001b[0m\n\u001b[1;32m     33\u001b[0m     \u001b[38;5;28;01mreturn\u001b[39;00m star, background\n\u001b[1;32m     35\u001b[0m \u001b[38;5;66;03m# Replace 'your_image_path.jpg' with the actual path to your star image\u001b[39;00m\n\u001b[0;32m---> 36\u001b[0m output_image, bg \u001b[38;5;241m=\u001b[39m \u001b[43mextract_star\u001b[49m\u001b[43m(\u001b[49m\u001b[38;5;124;43m\"\u001b[39;49m\u001b[38;5;124;43m./Star Images/Unurgunite.jpg\u001b[39;49m\u001b[38;5;124;43m\"\u001b[39;49m\u001b[43m)\u001b[49m\n\u001b[1;32m     38\u001b[0m \u001b[38;5;66;03m# Display the result\u001b[39;00m\n\u001b[1;32m     39\u001b[0m \u001b[38;5;66;03m# plt.imshow(output_image)\u001b[39;00m\n\u001b[1;32m     40\u001b[0m plt\u001b[38;5;241m.\u001b[39mimshow(bg)\n",
      "Cell \u001b[0;32mIn[70], line 22\u001b[0m, in \u001b[0;36mextract_star\u001b[0;34m(image_path)\u001b[0m\n\u001b[1;32m     19\u001b[0m cv2\u001b[38;5;241m.\u001b[39mdrawContours(mask, contours, \u001b[38;5;241m-\u001b[39m\u001b[38;5;241m1\u001b[39m, (\u001b[38;5;241m255\u001b[39m, \u001b[38;5;241m255\u001b[39m, \u001b[38;5;241m255\u001b[39m), thickness\u001b[38;5;241m=\u001b[39mcv2\u001b[38;5;241m.\u001b[39mFILLED)\n\u001b[1;32m     21\u001b[0m \u001b[38;5;66;03m# Apply the mask to the original image to get the star\u001b[39;00m\n\u001b[0;32m---> 22\u001b[0m star \u001b[38;5;241m=\u001b[39m \u001b[43mcv2\u001b[49m\u001b[38;5;241;43m.\u001b[39;49m\u001b[43mbitwise_and\u001b[49m\u001b[43m(\u001b[49m\u001b[43mimg\u001b[49m\u001b[43m,\u001b[49m\u001b[43m \u001b[49m\u001b[43mimg\u001b[49m\u001b[43m,\u001b[49m\u001b[43m \u001b[49m\u001b[43mmask\u001b[49m\u001b[38;5;241;43m=\u001b[39;49m\u001b[43mmask\u001b[49m\u001b[43m)\u001b[49m\n\u001b[1;32m     24\u001b[0m \u001b[38;5;66;03m# Invert the mask to get the removed background\u001b[39;00m\n\u001b[1;32m     25\u001b[0m background_mask \u001b[38;5;241m=\u001b[39m cv2\u001b[38;5;241m.\u001b[39mbitwise_not(mask)\n",
      "\u001b[0;31merror\u001b[0m: OpenCV(4.9.0) /Users/xperience/GHA-OpenCV-Python2/_work/opencv-python/opencv-python/opencv/modules/core/src/arithm.cpp:230: error: (-215:Assertion failed) (mtype == CV_8U || mtype == CV_8S) && _mask.sameSize(*psrc1) in function 'binary_op'\n"
     ]
    }
   ],
   "source": [
    "import cv2\n",
    "import numpy as np\n",
    "\n",
    "def extract_star(image_path):\n",
    "    # Read the image\n",
    "    img = cv2.imread(image_path)\n",
    "\n",
    "    # Convert the image to grayscale\n",
    "    gray = cv2.cvtColor(img, cv2.COLOR_BGR2GRAY)\n",
    "\n",
    "    # Apply thresholding to separate the star from the background\n",
    "    _, thresholded = cv2.threshold(gray, 220, 255, cv2.THRESH_BINARY)\n",
    "\n",
    "    # Find contours in the thresholded image\n",
    "    contours, _ = cv2.findContours(thresholded, cv2.RETR_EXTERNAL, cv2.CHAIN_APPROX_SIMPLE)\n",
    "\n",
    "    # Create a mask to keep only the star\n",
    "    mask = np.zeros_like(img)\n",
    "    cv2.drawContours(mask, contours, -1, (255, 255, 255), thickness=cv2.FILLED)\n",
    "\n",
    "    # Apply the mask to the original image to get the star\n",
    "    star = cv2.bitwise_and(img, img, mask=mask)\n",
    "\n",
    "    # Invert the mask to get the removed background\n",
    "    background_mask = cv2.bitwise_not(mask)\n",
    "\n",
    "    # Create a white background of the same size as the original image\n",
    "    white_background = np.ones_like(img, dtype=np.uint8) * 255\n",
    "\n",
    "    # Apply the inverted mask to the white background to get the background\n",
    "    background = cv2.bitwise_and(white_background, white_background, mask=background_mask)\n",
    "\n",
    "    return star, background\n",
    "\n",
    "# Replace 'your_image_path.jpg' with the actual path to your star image\n",
    "output_image, bg = extract_star(\"./Star Images/Unurgunite.jpg\")\n",
    "\n",
    "# Display the result\n",
    "# plt.imshow(output_image)\n",
    "plt.imshow(bg)\n",
    "plt.show()"
   ]
  },
  {
   "cell_type": "code",
   "execution_count": 5,
   "metadata": {},
   "outputs": [],
   "source": [
    "from rembg import remove\n",
    "import glob\n",
    "\n",
    "input_path = './Star Images/*.jpg'\n",
    "inputs = glob.glob(input_path)\n",
    "\n",
    "for i in inputs:\n",
    "    output = remove(open(i, 'rb').read())\n",
    "    with open(\"./Star Images Removed Backgrounds/\" + i.split(\"/\")[-1], 'wb') as f:\n",
    "        f.write(output)"
   ]
  }
 ],
 "metadata": {
  "kernelspec": {
   "display_name": "Python 3",
   "language": "python",
   "name": "python3"
  },
  "language_info": {
   "codemirror_mode": {
    "name": "ipython",
    "version": 3
   },
   "file_extension": ".py",
   "mimetype": "text/x-python",
   "name": "python",
   "nbconvert_exporter": "python",
   "pygments_lexer": "ipython3",
   "version": "3.11.6"
  }
 },
 "nbformat": 4,
 "nbformat_minor": 2
}
